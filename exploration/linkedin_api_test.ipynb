{
 "cells": [
  {
   "cell_type": "code",
   "execution_count": 2,
   "metadata": {},
   "outputs": [
    {
     "name": "stdout",
     "output_type": "stream",
     "text": [
      "Collecting https://github.com/tomquirk/linkedin-api.git\n",
      "  Downloading https://github.com/tomquirk/linkedin-api.git\n",
      "     - 0 bytes ? 0:00:00\n",
      "     - 32.8 kB 507.0 kB/s 0:00:00\n",
      "     \\ 86.0 kB 988.2 kB/s 0:00:00\n",
      "     \\ 206.8 kB 1.4 MB/s 0:00:00\n",
      "     | 293.1 kB 1.5 MB/s 0:00:00\n",
      "     | 293.1 kB 1.5 MB/s 0:00:00\n"
     ]
    },
    {
     "name": "stderr",
     "output_type": "stream",
     "text": [
      "  ERROR: Cannot unpack file C:\\Users\\abdul\\AppData\\Local\\Temp\\pip-unpack-7bonjrrv\\linkedin-api.git (downloaded from C:\\Users\\abdul\\AppData\\Local\\Temp\\pip-req-build-_o96fpw7, content-type: text/html; charset=utf-8); cannot detect archive format\n",
      "ERROR: Cannot determine archive format of C:\\Users\\abdul\\AppData\\Local\\Temp\\pip-req-build-_o96fpw7\n"
     ]
    }
   ],
   "source": [
    "!pip3 install git+https://github.com/tomquirk/linkedin-api.git"
   ]
  },
  {
   "cell_type": "code",
   "execution_count": null,
   "metadata": {},
   "outputs": [],
   "source": []
  }
 ],
 "metadata": {
  "kernelspec": {
   "display_name": "Python 3",
   "language": "python",
   "name": "python3"
  },
  "language_info": {
   "codemirror_mode": {
    "name": "ipython",
    "version": 3
   },
   "file_extension": ".py",
   "mimetype": "text/x-python",
   "name": "python",
   "nbconvert_exporter": "python",
   "pygments_lexer": "ipython3",
   "version": "3.11.5"
  }
 },
 "nbformat": 4,
 "nbformat_minor": 2
}
