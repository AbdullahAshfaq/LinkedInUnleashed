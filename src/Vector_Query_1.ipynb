{
 "cells": [
  {
   "cell_type": "markdown",
   "id": "582a37e5",
   "metadata": {},
   "source": [
    "### Statement: Get top 20 most similar current jobs according to my profile using vector database and perform location and job title analysis on them using Postgres. Use these postings to make a network of similar companies to keep an eye on using graphDb."
   ]
  },
  {
   "cell_type": "markdown",
   "id": "5c87feb8",
   "metadata": {},
   "source": [
    "### Explore Vector Data"
   ]
  },
  {
   "cell_type": "code",
   "execution_count": 128,
   "id": "4d8033b2",
   "metadata": {},
   "outputs": [],
   "source": [
    "import pandas as pd\n",
    "from utils.sql_utils import *"
   ]
  },
  {
   "cell_type": "code",
   "execution_count": 3,
   "id": "ec51ec00",
   "metadata": {},
   "outputs": [],
   "source": [
    "postings = pd.read_csv(\"D:/UCSD/Fall 2023/DSC 202/LinkedInUnleashed/data/companies/company+jobs/job_postings.csv\", encoding='utf-8')"
   ]
  },
  {
   "cell_type": "code",
   "execution_count": 4,
   "id": "2d74e5a8",
   "metadata": {},
   "outputs": [
    {
     "data": {
      "text/html": [
       "<div>\n",
       "<style scoped>\n",
       "    .dataframe tbody tr th:only-of-type {\n",
       "        vertical-align: middle;\n",
       "    }\n",
       "\n",
       "    .dataframe tbody tr th {\n",
       "        vertical-align: top;\n",
       "    }\n",
       "\n",
       "    .dataframe thead th {\n",
       "        text-align: right;\n",
       "    }\n",
       "</style>\n",
       "<table border=\"1\" class=\"dataframe\">\n",
       "  <thead>\n",
       "    <tr style=\"text-align: right;\">\n",
       "      <th></th>\n",
       "      <th>job_id</th>\n",
       "      <th>company_id</th>\n",
       "      <th>title</th>\n",
       "      <th>description</th>\n",
       "      <th>max_salary</th>\n",
       "      <th>med_salary</th>\n",
       "      <th>min_salary</th>\n",
       "      <th>pay_period</th>\n",
       "      <th>formatted_work_type</th>\n",
       "      <th>location</th>\n",
       "      <th>...</th>\n",
       "      <th>closed_time</th>\n",
       "      <th>formatted_experience_level</th>\n",
       "      <th>skills_desc</th>\n",
       "      <th>listed_time</th>\n",
       "      <th>posting_domain</th>\n",
       "      <th>sponsored</th>\n",
       "      <th>work_type</th>\n",
       "      <th>currency</th>\n",
       "      <th>compensation_type</th>\n",
       "      <th>scraped</th>\n",
       "    </tr>\n",
       "  </thead>\n",
       "  <tbody>\n",
       "    <tr>\n",
       "      <th>0</th>\n",
       "      <td>3757940104</td>\n",
       "      <td>553718.0</td>\n",
       "      <td>Hearing Care Provider</td>\n",
       "      <td>Overview\\n\\nHearingLife is a national hearing ...</td>\n",
       "      <td>NaN</td>\n",
       "      <td>5250.00</td>\n",
       "      <td>NaN</td>\n",
       "      <td>MONTHLY</td>\n",
       "      <td>Full-time</td>\n",
       "      <td>Little River, SC</td>\n",
       "      <td>...</td>\n",
       "      <td>NaN</td>\n",
       "      <td>Entry level</td>\n",
       "      <td>NaN</td>\n",
       "      <td>1.699090e+12</td>\n",
       "      <td>careers-demant.icims.com</td>\n",
       "      <td>0</td>\n",
       "      <td>FULL_TIME</td>\n",
       "      <td>USD</td>\n",
       "      <td>BASE_SALARY</td>\n",
       "      <td>1699138101</td>\n",
       "    </tr>\n",
       "    <tr>\n",
       "      <th>1</th>\n",
       "      <td>3757940025</td>\n",
       "      <td>2192142.0</td>\n",
       "      <td>Shipping &amp; Receiving Associate 2nd shift (Beav...</td>\n",
       "      <td>Metalcraft of Mayville\\nMetalcraft of Mayville...</td>\n",
       "      <td>NaN</td>\n",
       "      <td>NaN</td>\n",
       "      <td>NaN</td>\n",
       "      <td>NaN</td>\n",
       "      <td>Full-time</td>\n",
       "      <td>Beaver Dam, WI</td>\n",
       "      <td>...</td>\n",
       "      <td>NaN</td>\n",
       "      <td>NaN</td>\n",
       "      <td>NaN</td>\n",
       "      <td>1.699080e+12</td>\n",
       "      <td>www.click2apply.net</td>\n",
       "      <td>0</td>\n",
       "      <td>FULL_TIME</td>\n",
       "      <td>NaN</td>\n",
       "      <td>NaN</td>\n",
       "      <td>1699085420</td>\n",
       "    </tr>\n",
       "    <tr>\n",
       "      <th>2</th>\n",
       "      <td>3757938019</td>\n",
       "      <td>474443.0</td>\n",
       "      <td>Manager, Engineering</td>\n",
       "      <td>\\nThe TSUBAKI name is synonymous with excellen...</td>\n",
       "      <td>NaN</td>\n",
       "      <td>NaN</td>\n",
       "      <td>NaN</td>\n",
       "      <td>NaN</td>\n",
       "      <td>Full-time</td>\n",
       "      <td>Bessemer, AL</td>\n",
       "      <td>...</td>\n",
       "      <td>NaN</td>\n",
       "      <td>NaN</td>\n",
       "      <td>Bachelor's Degree in Mechanical Engineering pr...</td>\n",
       "      <td>1.699080e+12</td>\n",
       "      <td>www.click2apply.net</td>\n",
       "      <td>0</td>\n",
       "      <td>FULL_TIME</td>\n",
       "      <td>NaN</td>\n",
       "      <td>NaN</td>\n",
       "      <td>1699085644</td>\n",
       "    </tr>\n",
       "    <tr>\n",
       "      <th>3</th>\n",
       "      <td>3757938018</td>\n",
       "      <td>18213359.0</td>\n",
       "      <td>Cook</td>\n",
       "      <td>descriptionTitle\\n\\n Looking for a great oppor...</td>\n",
       "      <td>NaN</td>\n",
       "      <td>22.27</td>\n",
       "      <td>NaN</td>\n",
       "      <td>HOURLY</td>\n",
       "      <td>Full-time</td>\n",
       "      <td>Aliso Viejo, CA</td>\n",
       "      <td>...</td>\n",
       "      <td>NaN</td>\n",
       "      <td>Entry level</td>\n",
       "      <td>NaN</td>\n",
       "      <td>1.699080e+12</td>\n",
       "      <td>jobs.apploi.com</td>\n",
       "      <td>0</td>\n",
       "      <td>FULL_TIME</td>\n",
       "      <td>USD</td>\n",
       "      <td>BASE_SALARY</td>\n",
       "      <td>1699087461</td>\n",
       "    </tr>\n",
       "    <tr>\n",
       "      <th>4</th>\n",
       "      <td>3757937095</td>\n",
       "      <td>437225.0</td>\n",
       "      <td>Principal Cloud Security Architect (Remote)</td>\n",
       "      <td>Job Summary\\nAt iHerb, we are on a mission to ...</td>\n",
       "      <td>275834.0</td>\n",
       "      <td>NaN</td>\n",
       "      <td>205956.0</td>\n",
       "      <td>YEARLY</td>\n",
       "      <td>Full-time</td>\n",
       "      <td>United States</td>\n",
       "      <td>...</td>\n",
       "      <td>NaN</td>\n",
       "      <td>Mid-Senior level</td>\n",
       "      <td>NaN</td>\n",
       "      <td>1.699090e+12</td>\n",
       "      <td>careers.iherb.com</td>\n",
       "      <td>0</td>\n",
       "      <td>FULL_TIME</td>\n",
       "      <td>USD</td>\n",
       "      <td>BASE_SALARY</td>\n",
       "      <td>1699085346</td>\n",
       "    </tr>\n",
       "  </tbody>\n",
       "</table>\n",
       "<p>5 rows × 28 columns</p>\n",
       "</div>"
      ],
      "text/plain": [
       "       job_id  company_id                                              title  \\\n",
       "0  3757940104    553718.0                              Hearing Care Provider   \n",
       "1  3757940025   2192142.0  Shipping & Receiving Associate 2nd shift (Beav...   \n",
       "2  3757938019    474443.0                               Manager, Engineering   \n",
       "3  3757938018  18213359.0                                               Cook   \n",
       "4  3757937095    437225.0        Principal Cloud Security Architect (Remote)   \n",
       "\n",
       "                                         description  max_salary  med_salary  \\\n",
       "0  Overview\\n\\nHearingLife is a national hearing ...         NaN     5250.00   \n",
       "1  Metalcraft of Mayville\\nMetalcraft of Mayville...         NaN         NaN   \n",
       "2  \\nThe TSUBAKI name is synonymous with excellen...         NaN         NaN   \n",
       "3  descriptionTitle\\n\\n Looking for a great oppor...         NaN       22.27   \n",
       "4  Job Summary\\nAt iHerb, we are on a mission to ...    275834.0         NaN   \n",
       "\n",
       "   min_salary pay_period formatted_work_type          location  ...  \\\n",
       "0         NaN    MONTHLY           Full-time  Little River, SC  ...   \n",
       "1         NaN        NaN           Full-time    Beaver Dam, WI  ...   \n",
       "2         NaN        NaN           Full-time      Bessemer, AL  ...   \n",
       "3         NaN     HOURLY           Full-time   Aliso Viejo, CA  ...   \n",
       "4    205956.0     YEARLY           Full-time     United States  ...   \n",
       "\n",
       "   closed_time  formatted_experience_level  \\\n",
       "0          NaN                 Entry level   \n",
       "1          NaN                         NaN   \n",
       "2          NaN                         NaN   \n",
       "3          NaN                 Entry level   \n",
       "4          NaN            Mid-Senior level   \n",
       "\n",
       "                                         skills_desc   listed_time  \\\n",
       "0                                                NaN  1.699090e+12   \n",
       "1                                                NaN  1.699080e+12   \n",
       "2  Bachelor's Degree in Mechanical Engineering pr...  1.699080e+12   \n",
       "3                                                NaN  1.699080e+12   \n",
       "4                                                NaN  1.699090e+12   \n",
       "\n",
       "             posting_domain sponsored  work_type  currency  compensation_type  \\\n",
       "0  careers-demant.icims.com         0  FULL_TIME       USD        BASE_SALARY   \n",
       "1       www.click2apply.net         0  FULL_TIME       NaN                NaN   \n",
       "2       www.click2apply.net         0  FULL_TIME       NaN                NaN   \n",
       "3           jobs.apploi.com         0  FULL_TIME       USD        BASE_SALARY   \n",
       "4         careers.iherb.com         0  FULL_TIME       USD        BASE_SALARY   \n",
       "\n",
       "      scraped  \n",
       "0  1699138101  \n",
       "1  1699085420  \n",
       "2  1699085644  \n",
       "3  1699087461  \n",
       "4  1699085346  \n",
       "\n",
       "[5 rows x 28 columns]"
      ]
     },
     "execution_count": 4,
     "metadata": {},
     "output_type": "execute_result"
    }
   ],
   "source": [
    "postings.head()"
   ]
  },
  {
   "cell_type": "code",
   "execution_count": 5,
   "id": "acbe356b",
   "metadata": {},
   "outputs": [],
   "source": [
    "postings = postings[pd.notna(postings['description'])]"
   ]
  },
  {
   "cell_type": "code",
   "execution_count": 6,
   "id": "47e2e643",
   "metadata": {},
   "outputs": [
    {
     "data": {
      "text/plain": [
       "job_id                        33245\n",
       "company_id                    32591\n",
       "title                         33245\n",
       "description                   33245\n",
       "max_salary                    11111\n",
       "med_salary                     2241\n",
       "min_salary                    11111\n",
       "pay_period                    13352\n",
       "formatted_work_type           33245\n",
       "location                      33245\n",
       "applies                       16238\n",
       "original_listed_time          33245\n",
       "remote_allowed                 4802\n",
       "views                         25885\n",
       "job_posting_url               33245\n",
       "application_url               20996\n",
       "application_type              33245\n",
       "expiry                        33245\n",
       "closed_time                    1172\n",
       "formatted_experience_level    24065\n",
       "skills_desc                     337\n",
       "listed_time                   33245\n",
       "posting_domain                19688\n",
       "sponsored                     33245\n",
       "work_type                     33245\n",
       "currency                      13352\n",
       "compensation_type             13352\n",
       "scraped                       33245\n",
       "dtype: int64"
      ]
     },
     "execution_count": 6,
     "metadata": {},
     "output_type": "execute_result"
    }
   ],
   "source": [
    "postings.notnull().sum()"
   ]
  },
  {
   "cell_type": "code",
   "execution_count": 7,
   "id": "58fbdb8e",
   "metadata": {},
   "outputs": [
    {
     "data": {
      "text/plain": [
       "(33245, 28)"
      ]
     },
     "execution_count": 7,
     "metadata": {},
     "output_type": "execute_result"
    }
   ],
   "source": [
    "postings.shape"
   ]
  },
  {
   "cell_type": "markdown",
   "id": "0754b666",
   "metadata": {},
   "source": [
    "## Clean Vector Data"
   ]
  },
  {
   "cell_type": "code",
   "execution_count": 8,
   "id": "c59d359e",
   "metadata": {},
   "outputs": [],
   "source": [
    "import re\n",
    "\n",
    "def clean_text(text):\n",
    "    # Remove everything except text, numbers, and important punctuation marks\n",
    "    cleaned_text = re.sub(r'[^a-zA-Z0-9.,;:!?\\s]', '', text)\n",
    "    \n",
    "    # Replace multiple whitespaces with a single space\n",
    "    cleaned_text = re.sub(r'\\s+', ' ', cleaned_text)\n",
    "    \n",
    "    return cleaned_text"
   ]
  },
  {
   "cell_type": "code",
   "execution_count": 9,
   "id": "c752e08d",
   "metadata": {},
   "outputs": [],
   "source": [
    "text = postings.iloc[0, 3]"
   ]
  },
  {
   "cell_type": "code",
   "execution_count": 10,
   "id": "416cb69c",
   "metadata": {},
   "outputs": [],
   "source": [
    "postings['description'] = postings['description'].apply(clean_text)"
   ]
  },
  {
   "cell_type": "code",
   "execution_count": 11,
   "id": "28adb137",
   "metadata": {
    "scrolled": true
   },
   "outputs": [
    {
     "data": {
      "text/html": [
       "<div>\n",
       "<style scoped>\n",
       "    .dataframe tbody tr th:only-of-type {\n",
       "        vertical-align: middle;\n",
       "    }\n",
       "\n",
       "    .dataframe tbody tr th {\n",
       "        vertical-align: top;\n",
       "    }\n",
       "\n",
       "    .dataframe thead th {\n",
       "        text-align: right;\n",
       "    }\n",
       "</style>\n",
       "<table border=\"1\" class=\"dataframe\">\n",
       "  <thead>\n",
       "    <tr style=\"text-align: right;\">\n",
       "      <th></th>\n",
       "      <th>job_id</th>\n",
       "      <th>company_id</th>\n",
       "      <th>title</th>\n",
       "      <th>description</th>\n",
       "      <th>max_salary</th>\n",
       "      <th>med_salary</th>\n",
       "      <th>min_salary</th>\n",
       "      <th>pay_period</th>\n",
       "      <th>formatted_work_type</th>\n",
       "      <th>location</th>\n",
       "      <th>...</th>\n",
       "      <th>closed_time</th>\n",
       "      <th>formatted_experience_level</th>\n",
       "      <th>skills_desc</th>\n",
       "      <th>listed_time</th>\n",
       "      <th>posting_domain</th>\n",
       "      <th>sponsored</th>\n",
       "      <th>work_type</th>\n",
       "      <th>currency</th>\n",
       "      <th>compensation_type</th>\n",
       "      <th>scraped</th>\n",
       "    </tr>\n",
       "  </thead>\n",
       "  <tbody>\n",
       "    <tr>\n",
       "      <th>0</th>\n",
       "      <td>3757940104</td>\n",
       "      <td>553718.0</td>\n",
       "      <td>Hearing Care Provider</td>\n",
       "      <td>Overview HearingLife is a national hearing car...</td>\n",
       "      <td>NaN</td>\n",
       "      <td>5250.00</td>\n",
       "      <td>NaN</td>\n",
       "      <td>MONTHLY</td>\n",
       "      <td>Full-time</td>\n",
       "      <td>Little River, SC</td>\n",
       "      <td>...</td>\n",
       "      <td>NaN</td>\n",
       "      <td>Entry level</td>\n",
       "      <td>NaN</td>\n",
       "      <td>1.699090e+12</td>\n",
       "      <td>careers-demant.icims.com</td>\n",
       "      <td>0</td>\n",
       "      <td>FULL_TIME</td>\n",
       "      <td>USD</td>\n",
       "      <td>BASE_SALARY</td>\n",
       "      <td>1699138101</td>\n",
       "    </tr>\n",
       "    <tr>\n",
       "      <th>1</th>\n",
       "      <td>3757940025</td>\n",
       "      <td>2192142.0</td>\n",
       "      <td>Shipping &amp; Receiving Associate 2nd shift (Beav...</td>\n",
       "      <td>Metalcraft of Mayville Metalcraft of Mayville ...</td>\n",
       "      <td>NaN</td>\n",
       "      <td>NaN</td>\n",
       "      <td>NaN</td>\n",
       "      <td>NaN</td>\n",
       "      <td>Full-time</td>\n",
       "      <td>Beaver Dam, WI</td>\n",
       "      <td>...</td>\n",
       "      <td>NaN</td>\n",
       "      <td>NaN</td>\n",
       "      <td>NaN</td>\n",
       "      <td>1.699080e+12</td>\n",
       "      <td>www.click2apply.net</td>\n",
       "      <td>0</td>\n",
       "      <td>FULL_TIME</td>\n",
       "      <td>NaN</td>\n",
       "      <td>NaN</td>\n",
       "      <td>1699085420</td>\n",
       "    </tr>\n",
       "    <tr>\n",
       "      <th>2</th>\n",
       "      <td>3757938019</td>\n",
       "      <td>474443.0</td>\n",
       "      <td>Manager, Engineering</td>\n",
       "      <td>The TSUBAKI name is synonymous with excellenc...</td>\n",
       "      <td>NaN</td>\n",
       "      <td>NaN</td>\n",
       "      <td>NaN</td>\n",
       "      <td>NaN</td>\n",
       "      <td>Full-time</td>\n",
       "      <td>Bessemer, AL</td>\n",
       "      <td>...</td>\n",
       "      <td>NaN</td>\n",
       "      <td>NaN</td>\n",
       "      <td>Bachelor's Degree in Mechanical Engineering pr...</td>\n",
       "      <td>1.699080e+12</td>\n",
       "      <td>www.click2apply.net</td>\n",
       "      <td>0</td>\n",
       "      <td>FULL_TIME</td>\n",
       "      <td>NaN</td>\n",
       "      <td>NaN</td>\n",
       "      <td>1699085644</td>\n",
       "    </tr>\n",
       "    <tr>\n",
       "      <th>3</th>\n",
       "      <td>3757938018</td>\n",
       "      <td>18213359.0</td>\n",
       "      <td>Cook</td>\n",
       "      <td>descriptionTitle Looking for a great opportuni...</td>\n",
       "      <td>NaN</td>\n",
       "      <td>22.27</td>\n",
       "      <td>NaN</td>\n",
       "      <td>HOURLY</td>\n",
       "      <td>Full-time</td>\n",
       "      <td>Aliso Viejo, CA</td>\n",
       "      <td>...</td>\n",
       "      <td>NaN</td>\n",
       "      <td>Entry level</td>\n",
       "      <td>NaN</td>\n",
       "      <td>1.699080e+12</td>\n",
       "      <td>jobs.apploi.com</td>\n",
       "      <td>0</td>\n",
       "      <td>FULL_TIME</td>\n",
       "      <td>USD</td>\n",
       "      <td>BASE_SALARY</td>\n",
       "      <td>1699087461</td>\n",
       "    </tr>\n",
       "    <tr>\n",
       "      <th>4</th>\n",
       "      <td>3757937095</td>\n",
       "      <td>437225.0</td>\n",
       "      <td>Principal Cloud Security Architect (Remote)</td>\n",
       "      <td>Job Summary At iHerb, we are on a mission to m...</td>\n",
       "      <td>275834.0</td>\n",
       "      <td>NaN</td>\n",
       "      <td>205956.0</td>\n",
       "      <td>YEARLY</td>\n",
       "      <td>Full-time</td>\n",
       "      <td>United States</td>\n",
       "      <td>...</td>\n",
       "      <td>NaN</td>\n",
       "      <td>Mid-Senior level</td>\n",
       "      <td>NaN</td>\n",
       "      <td>1.699090e+12</td>\n",
       "      <td>careers.iherb.com</td>\n",
       "      <td>0</td>\n",
       "      <td>FULL_TIME</td>\n",
       "      <td>USD</td>\n",
       "      <td>BASE_SALARY</td>\n",
       "      <td>1699085346</td>\n",
       "    </tr>\n",
       "  </tbody>\n",
       "</table>\n",
       "<p>5 rows × 28 columns</p>\n",
       "</div>"
      ],
      "text/plain": [
       "       job_id  company_id                                              title  \\\n",
       "0  3757940104    553718.0                              Hearing Care Provider   \n",
       "1  3757940025   2192142.0  Shipping & Receiving Associate 2nd shift (Beav...   \n",
       "2  3757938019    474443.0                               Manager, Engineering   \n",
       "3  3757938018  18213359.0                                               Cook   \n",
       "4  3757937095    437225.0        Principal Cloud Security Architect (Remote)   \n",
       "\n",
       "                                         description  max_salary  med_salary  \\\n",
       "0  Overview HearingLife is a national hearing car...         NaN     5250.00   \n",
       "1  Metalcraft of Mayville Metalcraft of Mayville ...         NaN         NaN   \n",
       "2   The TSUBAKI name is synonymous with excellenc...         NaN         NaN   \n",
       "3  descriptionTitle Looking for a great opportuni...         NaN       22.27   \n",
       "4  Job Summary At iHerb, we are on a mission to m...    275834.0         NaN   \n",
       "\n",
       "   min_salary pay_period formatted_work_type          location  ...  \\\n",
       "0         NaN    MONTHLY           Full-time  Little River, SC  ...   \n",
       "1         NaN        NaN           Full-time    Beaver Dam, WI  ...   \n",
       "2         NaN        NaN           Full-time      Bessemer, AL  ...   \n",
       "3         NaN     HOURLY           Full-time   Aliso Viejo, CA  ...   \n",
       "4    205956.0     YEARLY           Full-time     United States  ...   \n",
       "\n",
       "   closed_time  formatted_experience_level  \\\n",
       "0          NaN                 Entry level   \n",
       "1          NaN                         NaN   \n",
       "2          NaN                         NaN   \n",
       "3          NaN                 Entry level   \n",
       "4          NaN            Mid-Senior level   \n",
       "\n",
       "                                         skills_desc   listed_time  \\\n",
       "0                                                NaN  1.699090e+12   \n",
       "1                                                NaN  1.699080e+12   \n",
       "2  Bachelor's Degree in Mechanical Engineering pr...  1.699080e+12   \n",
       "3                                                NaN  1.699080e+12   \n",
       "4                                                NaN  1.699090e+12   \n",
       "\n",
       "             posting_domain sponsored  work_type  currency  compensation_type  \\\n",
       "0  careers-demant.icims.com         0  FULL_TIME       USD        BASE_SALARY   \n",
       "1       www.click2apply.net         0  FULL_TIME       NaN                NaN   \n",
       "2       www.click2apply.net         0  FULL_TIME       NaN                NaN   \n",
       "3           jobs.apploi.com         0  FULL_TIME       USD        BASE_SALARY   \n",
       "4         careers.iherb.com         0  FULL_TIME       USD        BASE_SALARY   \n",
       "\n",
       "      scraped  \n",
       "0  1699138101  \n",
       "1  1699085420  \n",
       "2  1699085644  \n",
       "3  1699087461  \n",
       "4  1699085346  \n",
       "\n",
       "[5 rows x 28 columns]"
      ]
     },
     "execution_count": 11,
     "metadata": {},
     "output_type": "execute_result"
    }
   ],
   "source": [
    "postings.head()"
   ]
  },
  {
   "cell_type": "markdown",
   "id": "c2ae17f8",
   "metadata": {},
   "source": [
    "## Make and load postgres job posting data"
   ]
  },
  {
   "cell_type": "code",
   "execution_count": 26,
   "id": "8a834e8f",
   "metadata": {},
   "outputs": [
    {
     "data": {
      "text/plain": [
       "(33245, 28)"
      ]
     },
     "execution_count": 26,
     "metadata": {},
     "output_type": "execute_result"
    }
   ],
   "source": [
    "postings.shape"
   ]
  },
  {
   "cell_type": "code",
   "execution_count": 28,
   "id": "368b8de1",
   "metadata": {},
   "outputs": [],
   "source": [
    "postgres_postings = postings.drop(\"description\", axis=1)"
   ]
  },
  {
   "cell_type": "code",
   "execution_count": 43,
   "id": "118b6102",
   "metadata": {},
   "outputs": [],
   "source": [
    "import pandas as pd\n",
    "import psycopg2\n",
    "import csv"
   ]
  },
  {
   "cell_type": "code",
   "execution_count": 129,
   "id": "bbb49c47",
   "metadata": {},
   "outputs": [],
   "source": [
    "creds = {\n",
    "    'db':\"dsc_202_project\",\n",
    "    'user':\"postgres\",\n",
    "    'password':\"Aagaaz@786\",\n",
    "    'host':\"localhost\",\n",
    "    'port':\"5432\"\n",
    "}"
   ]
  },
  {
   "cell_type": "code",
   "execution_count": 92,
   "id": "b1ace347",
   "metadata": {},
   "outputs": [],
   "source": [
    "pg_conn = psycopg2.connect(\n",
    "            dbname=creds['db'],\n",
    "            user=creds['user'],\n",
    "            password=creds['password'],\n",
    "            host=creds['host'],\n",
    "            port=creds['port']\n",
    "        )\n",
    "pg_conn.autocommit = True\n",
    "pg_cursor = pg_conn.cursor()"
   ]
  },
  {
   "cell_type": "code",
   "execution_count": 130,
   "id": "ca42ffdf",
   "metadata": {},
   "outputs": [],
   "source": [
    "pgsql = PostgreSQL_Connector(creds)"
   ]
  },
  {
   "cell_type": "code",
   "execution_count": 49,
   "id": "dec0310c",
   "metadata": {},
   "outputs": [],
   "source": [
    "query = \"\"\"\n",
    "ALTER TABLE job_postings DROP COLUMN description;\n",
    "\"\"\""
   ]
  },
  {
   "cell_type": "code",
   "execution_count": 51,
   "id": "212659fa",
   "metadata": {},
   "outputs": [],
   "source": [
    "query = \"\"\"\n",
    "select * from job_postings;\n",
    "\"\"\""
   ]
  },
  {
   "cell_type": "markdown",
   "id": "af53dc4d",
   "metadata": {},
   "source": [
    "## Make and load posting data"
   ]
  },
  {
   "cell_type": "code",
   "execution_count": 12,
   "id": "851b35dc",
   "metadata": {},
   "outputs": [],
   "source": [
    "documents = []\n",
    "ids = []"
   ]
  },
  {
   "cell_type": "code",
   "execution_count": 13,
   "id": "140c33ae",
   "metadata": {},
   "outputs": [],
   "source": [
    "for i in range(0, len(postings)):\n",
    "    raw_text = postings.iloc[i, 2] + \" \" + postings.iloc[i, 3]\n",
    "    cleaned_text = clean_text(raw_text)\n",
    "    documents.append(cleaned_text)\n",
    "    \n",
    "    ## Make composite index\n",
    "    id_ = str(postings.iloc[i, 0]) + \":\" + str(postings.iloc[i, 1])\n",
    "    ids.append(id_)"
   ]
  },
  {
   "cell_type": "code",
   "execution_count": 14,
   "id": "3f3e3080",
   "metadata": {},
   "outputs": [],
   "source": [
    "import chromadb\n",
    "from chromadb.utils import embedding_functions"
   ]
  },
  {
   "cell_type": "code",
   "execution_count": 15,
   "id": "a011c795",
   "metadata": {},
   "outputs": [],
   "source": [
    "sentence_transformer_ef = embedding_functions.SentenceTransformerEmbeddingFunction(model_name='paraphrase-MiniLM-L6-v2')"
   ]
  },
  {
   "cell_type": "code",
   "execution_count": 16,
   "id": "dbc51544",
   "metadata": {},
   "outputs": [],
   "source": [
    "persistent_directory = \"D:/UCSD/Fall 2023/DSC 202/LinkedInUnleashed/data/vectordb_datastore\""
   ]
  },
  {
   "cell_type": "code",
   "execution_count": 17,
   "id": "a912f15c",
   "metadata": {},
   "outputs": [],
   "source": [
    "chroma_client = chromadb.PersistentClient(path=persistent_directory)"
   ]
  },
  {
   "cell_type": "code",
   "execution_count": 41,
   "id": "5b13dc2f",
   "metadata": {},
   "outputs": [],
   "source": [
    "#chroma_client.delete_collection(name=\"job_postings_descriptions\")"
   ]
  },
  {
   "cell_type": "code",
   "execution_count": 18,
   "id": "fceb8d36",
   "metadata": {},
   "outputs": [],
   "source": [
    "collection = chroma_client.create_collection(name=\"job_postings_descriptions\", embedding_function=sentence_transformer_ef)"
   ]
  },
  {
   "cell_type": "code",
   "execution_count": 19,
   "id": "6aaedce9",
   "metadata": {},
   "outputs": [],
   "source": [
    "#collection = chroma_client.get_collection(name=\"job_postings_descriptions\")"
   ]
  },
  {
   "cell_type": "code",
   "execution_count": 20,
   "id": "4288740e",
   "metadata": {},
   "outputs": [],
   "source": [
    "collection.add(\n",
    "    documents = documents,\n",
    "    ids = ids\n",
    ")"
   ]
  },
  {
   "cell_type": "code",
   "execution_count": 60,
   "id": "59fb4fa1",
   "metadata": {},
   "outputs": [],
   "source": [
    "query_string = \"\"\"Data Science grad with 2 years of \n",
    "experience in the entire data science life cycle. \n",
    "Have multiple internships and projects in computer \n",
    "vision and natural language processing. \n",
    "Proficient with Python, R and querying\n",
    "languages like SQL.\"\"\""
   ]
  },
  {
   "cell_type": "markdown",
   "id": "64af435f",
   "metadata": {},
   "source": [
    "### Query"
   ]
  },
  {
   "cell_type": "code",
   "execution_count": 169,
   "id": "ceb4c9d6",
   "metadata": {},
   "outputs": [
    {
     "data": {
      "text/plain": [
       "{'ids': [['3699097574:2012779.0',\n",
       "   '3699087065:1403.0',\n",
       "   '3749360141:2203697.0',\n",
       "   '3697390531:1403.0',\n",
       "   '3697387964:1403.0',\n",
       "   '3757459741:53864.0',\n",
       "   '3757725777:157356.0',\n",
       "   '3757471229:3749364.0',\n",
       "   '3699077628:1441.0',\n",
       "   '3697388794:1403.0',\n",
       "   '3693048844:8117.0',\n",
       "   '3697391430:1403.0',\n",
       "   '3757756157:5140.0',\n",
       "   '3757496203:2385278.0',\n",
       "   '3756116362:77869403.0',\n",
       "   '3757725778:157356.0',\n",
       "   '3757727698:157356.0',\n",
       "   '3757454394:1199482.0',\n",
       "   '3693586591:45346.0',\n",
       "   '3748829738:217273.0',\n",
       "   '3697342482:65501986.0',\n",
       "   '3694102891:72559323.0',\n",
       "   '3757490568:122451.0',\n",
       "   '3691795980:7573454.0',\n",
       "   '3693068307:72559323.0']],\n",
       " 'distances': [[14.12105655670166,\n",
       "   14.57985782623291,\n",
       "   15.007060050964355,\n",
       "   15.131120681762695,\n",
       "   15.138842582702637,\n",
       "   15.30224609375,\n",
       "   15.412276268005371,\n",
       "   15.722932815551758,\n",
       "   15.806909561157227,\n",
       "   15.818198204040527,\n",
       "   15.830878257751465,\n",
       "   15.923686027526855,\n",
       "   15.930133819580078,\n",
       "   15.943193435668945,\n",
       "   16.098758697509766,\n",
       "   16.104883193969727,\n",
       "   16.104883193969727,\n",
       "   16.212535858154297,\n",
       "   16.376571655273438,\n",
       "   16.397130966186523,\n",
       "   16.50182342529297,\n",
       "   16.555835723876953,\n",
       "   16.622787475585938,\n",
       "   16.693038940429688,\n",
       "   16.75345802307129]],\n",
       " 'metadatas': [[None,\n",
       "   None,\n",
       "   None,\n",
       "   None,\n",
       "   None,\n",
       "   None,\n",
       "   None,\n",
       "   None,\n",
       "   None,\n",
       "   None,\n",
       "   None,\n",
       "   None,\n",
       "   None,\n",
       "   None,\n",
       "   None,\n",
       "   None,\n",
       "   None,\n",
       "   None,\n",
       "   None,\n",
       "   None,\n",
       "   None,\n",
       "   None,\n",
       "   None,\n",
       "   None,\n",
       "   None]],\n",
       " 'embeddings': None,\n",
       " 'documents': [['Sr. Data Engineer Title: Sr. Data EngineerLocation: Austin, TxDuration: 6 MonthsPay Rate: 65HR 70HR on W2 Requirements:Bachelors degree in Computer Science or related field plus 4 years of relevant work experience or a Masters degree plus 2 years of relevant work experience or a PhD plus 01 years of relevant experienceIn lieu of a degree, qualified candidates would require 8 years of relevant professional experienceExcellent with SQLExcellent programming skills in Python and ideally demonstrating an aptitude via experience with multiple languagesExcellent understanding of patterns for data ingest into data warehouse, ingest, cleansing, standardizing, etc., in addition to different data structures like normalized, denormalized, starExcellent experience supporting Snowflake Data Warehouse, including Snowpipe including streams, tasks, transformations, views, dynamic tables. This should include advanced skills in ensuring efficient utilization of Snowflake compute and the ability to optimize workloads and warehouseBroad experience with Cloud PaaS capabilities, ideally AWS CloudWatch, Lambda, Step Functions, SNSSQS, DynamoDB, etc.Experience utilizing reporting and data insights toolsExperience in supporting analytics teams data needs, in addition to customer and business reporting. What youll be doing:Provides Data Engineering support for areas such as Finance, Sales, Business Intelligence, Product Development andor other business usersWorks with data consumers and Project Managers to determine logical and physical database designs for analytics modelsCreates and maintains optimal data pipeline architecturesEnsures architectures are aligned with and support business requirements;Ensures that required data is available, can be trusted and is readily accessible by those who need itInfluences the data infrastructure roadmapIdentifies, designs and implements internal data management process improvementsPlays a key role in application development projects to evolve the companys database architecture and designWorks with internal and external data providers on data validation, providing feedback and making customized changes to data feeds and data mappings for analytical and operational useAutomates manual processes, transforming them into repeatable capabilitiesWorks with fellow team members to ensure design, development and execution align with and support adjacencies and adhere to established architectural standards. Top 5 Must Haves:Excellent with SQLExcellent programming skills in Python and ideally demonstrating an aptitude via experience with multiple languagesExcellent understanding of patterns for data ingest into data warehouse, ingest, cleansing, standardizing, etc., in addition to different data structures like normalized, denormalized, star;Excellent experience supporting Snowflake Data Warehouse, including Snowpipe including streams, tasks, transformations, views, dynamic tables. This should include advanced skills in ensuring efficient utilization of Snowflake compute and the ability to optimize workloads and warehouseBroad experience with Cloud PaaS capabilities, ideally AWS CloudWatch, Lambda, Step Functions, SNSSQS, DynamoDB, etc. Thank you!',\n",
       "   'Data Engineer Job Number: R0178195 Data Engineer The Opportunity: Everexpanding technology like IoT, machine learning, and artificial intelligence means that theres more structured and unstructured data available today than ever before. As a data engineer, you know that organizing big data can yield pivotal insights when its gathered from disparate sources. We need a data professional like you to help our clients find answers in their big data to impact important missions from fraud detection to cancer research, to national intelligence. As a big data engineer, youll use your skills and experience to implement data engineering activities on some of the most missiondriven projects in the industry. Youll develop and deploy the pipelines and platforms that organize and make disparate data meaningful. Youll work with a multidisciplinary team of analysts, data engineers, developers, and data consumers in a fastpaced, Agile environment. Youll sharpen your skills in analytical exploration and data examination while you support the assessment, design, development, and maintenance of scalable platforms for your clients. Work with us to use big data for good. Join us. The world cant wait. You Have: 2 years of experience with data engineering and using programming languages, including C, Java, or PythonExperience developing and maintaining scalable data stores that supply big data in forms needed for business analysisKnowledge of creating software for retrieving, parsing, and processing structured and unstructured dataAbility to develop scalable ETL and ELT workflows for reporting and analyticsAbility to create solutions within a collaborative, crossfunctional team environmentAbility to develop scripts and programs for converting various types of data into usable formats and support project team to scale, monitor, and operate data platformsSecret clearanceBachelors degree Nice If You Have: Experience with application development using SQL or ScalaExperience with a public Cloud, including AWS, Microsoft Azure, or Google CloudExperience with distributed data and computing tools, including Spark, Databricks, Hadoop, Hive, AWS EMR, or KafkaExperience working on realtime data and streaming applications Experience with NoSQL implementation using MongoDB or CassandraExperience with data warehousing, including AWS Redshift, MySQL, or SnowflakeExperience with UNIX and Linux, including basic commands and Shell scriptingExperience with Agile engineering practices Masters degree Clearance: Applicants selected will be subject to a security investigation and may need to meet eligibility requirements for access to classified information; Secret clearance is required. Create Your Career: Grow With Us Your growth matters to usthats why we offer a variety of ways for you to develop your career. With professional and leadership development opportunities like upskilling programs, tuition reimbursement, mentoring, and firmsponsored networking, you can chart a unique and fulfilling career path on your own terms. A Place Where You Belong Diverse perspectives cultivate collective ingenuity. Booz Allens culture of respect, equity, and opportunity means that, here, you are free to bring your whole self to work. With an array of business resource groups and other opportunities for connection, youll develop your community in no time. Support Your WellBeing Our comprehensive benefits package includes wellness programs with HSA contributions, paid holidays, paid parental leave, a generous 401k match, and more. With these benefits, plus the option for flexible schedules and remote and hybrid locations, well support you as you pursue a balanced, fulfilling lifeat work and at home. Your Candidate Journey At Booz Allen, we know our people are what propel us forward, and we value relationships most of all. Here, weve compiled a list of resources so youll know what to expect as we forge a connection with you during your journey as a candidate with us. Compensation At Booz Allen, we celebrate your contributions, provide you with opportunities and choices, and support your total wellbeing. Our offerings include health, life, disability, financial, and retirement benefits, as well as paid leave, professional development, tuition assistance, worklife programs, and dependent care. Our recognition awards program acknowledges employees for exceptional performance and superior demonstration of our values. Fulltime and parttime employees working at least 20 hours a week on a regular basis are eligible to participate in Booz Allens benefit programs. Individuals that do not meet the threshold are only eligible for select offerings, not inclusive of health benefits. We encourage you to learn more about our total benefits by visiting the Resource page on our Careers site and reviewing Our Employee Benefits page. Salary at Booz Allen is determined by various factors, including but not limited to location, the individuals particular combination of education, knowledge, skills, competencies, and experience, as well as contractspecific affordability and organizational requirements. The projected compensation range for this position is 58,400.00 to 133,000.00 annualized USD. The estimate displayed represents the typical salary range for this position and is just one component of Booz Allens total compensation package for employees. Work Model Our peoplefirst culture prioritizes the benefits of flexibility and collaboration, whether that happens in person or remotely. If this position is listed as remote or hybrid, youll periodically work from a Booz Allen or client site facility.If this position is listed as onsite, youll work with colleagues and clients in person, as needed for the specific role. EEO Commitment Were an equal employment opportunityaffirmative action employer that empowers our people to fearlessly drive change no matter their race, color, ethnicity, religion, sex including pregnancy, childbirth, lactation, or related medical conditions, national origin, ancestry, age, marital status, sexual orientation, gender identity and expression, disability, veteran status, military or uniformed service member status, genetic information, or any other status protected by applicable federal, state, local, or international law.',\n",
       "   'AI Data Scientist Senior 610 yrs. Level 4 Our client is seeking a Sr. Data Scientist to join their team. Sr. Data Scientist Location: AustinWestlake, TX Hybrid Duration: 6 months Summary Position Summary: The Data Scientist drives internal data analytics projects. Projects will vary from short explorations of our data to longerterm implementations of advanced predictive and machine learning models. The Lead Data Scientist constantly explores our existing data while seeking out new data to consume. They apply analytical and data science methods to real world datasets to solve ongoing business problems. The Lead Data Scientist effectively communicates both technical and analytical concepts across all levels of the organization, and they influence the roadmap and decisionmaking through presentation of databased recommendations. Principle Responsibilities Must Haves: Handson Experience with LLMs Prompt Engineering, Pretraining Finetuning 712 years of relevant experience. Have strong background in Statistical Analysis Should be familiar with NLP field Classification, Information Retrieval, NER, Clustering, Chatbot Development etc. Experience working with any Cloud Provider Azure, GCP preferred Experience working with libraries like Pytorch, Tensorflow, Transformers, Langchain, Spacy etc. Researches and resolves data inquiries and requests Provides insights and serves as a subject matter expert for department data Documents requirements for data science and reporting projects. Supports the development of standard data analyses, reports, and dashboards. Collaborates with other teams to gather data and build relationships Performs timeseries analyses, hypothesis testing, and causal analyses to statistically assess relative impact and extract trends across all relevant functional areas Transforms data into actionable insights and recommendations. Designs experiments and interprets the results to draw detailed and actionable conclusions. Builds statistical models to enhance understanding of trends and predicts future performance. Finds new opportunities and novel applications for our core internal data. Translates and champions our Machine Learning capabilities for nontechnical audiences. Participates in endtoend data science project lifecycle data mining and exploration, model development and evaluation, solution deployment in production, measurement and tracking. Designs, validates and evaluates solutions using R, Python, SQL and other programming tools. Creates presentations for senior leaders, which are often used to build board level presentations. If this is a role that interests you and youd like to learn more, click apply now and a recruiter will be in touch with you to discuss this great opportunity. We look forward to speaking with you! About ManpowerGroup, Parent Company of:Manpower, Experis, Talent Solutions, and Jefferson Wells ManpowerGroup NYSE: MAN, the leading global workforce solutions company, helps organizations transform in a fastchanging world of work by sourcing, assessing, developing, and managing the talent that enables them to win. We develop innovative solutions for hundreds of thousands of organizations every year, providing them with skilled talent while finding meaningful, sustainable employment for millions of people across a wide range of industries and skills. Our expert family of brands Manpower, Experis, Talent Solutions, and Jefferson Wells creates substantial value for candidates and clients across more than 75 countries and territories and has done so for over 70 years. We are recognized consistently for our diversity as a best place to work for Women, Inclusion, Equality and Disability and in 2022 ManpowerGroup was named one of the Worlds Most Ethical Companies for the 13th year all confirming our position as the brand of choice for indemand talent. ',\n",
       "   'Data Scientist Job Number: R0178047 Data Scientist The Opportunity: As a data scientist, youre excited at the prospect of unlocking the secrets held by a data set, and youre fascinated by the possibilities presented by IoT, machine learning, and artificial intelligence. In an increasingly connected world, massive amounts of structured and unstructured data open new opportunities. As a data scientist at Booz Allen, you can help turn these complex data sets into useful information to solve global challenges. Across private and public sectors from fraud detection to cancer research, to national intelligence, we need you to help find the answers in the data. On our team, youll use your leadership skills and data science expertise to create realworld impact. Youll work closely with clients to understand their questions and needs, and then dig into their datarich environments to find the pieces of their information puzzle. Youll guide teammates and lead the development of algorithms and systems. Youll use the right combination of tools and frameworks to turn sets of disparate data points into objective answers to advise your clients as they make informed decisions. Ultimately, youll provide a deep understanding of the data, what it all means, and how it can be used. Work with us as we use data science for good. Join us. The world cant wait. You Have: Experience with data exploration, data cleaning, data analysis, data visualization, or data miningExperience with statistical and generalpurpose programming languages for data analysisExperience with developing predictive data models and quantitative analysesExperience with analyzing structured and unstructured data sourcesTSSCI clearanceHS diploma or GED Nice If You Have: Experience with Python, R, Java, TensorFlow, PyTorch, ApacheSpark, Apache NiFi, SQL, NoSQL, Tableau, JavaScript, Flask, AWS, and AzureExperience with data visualization toolsExperience with sharing or presenting analytic resultsKnowledge of Machine Learning, Artificial Intelligence, or Natural Language ProcessingAbility to take poorly defined problems and convert them into questions for which practical quantitative solutions can be definedAbility to evaluate data methods, models, and algorithmsTSSCI clearance with a polygraphBachelors degree in Data Science, CS, Mathematics, Statistics, or Data Analytics Clearance: Applicants selected will be subject to a security investigation and may need to meet eligibility requirements for access to classified information; TSSCI clearance is required. Create Your Career: Grow With Us Your growth matters to usthats why we offer a variety of ways for you to develop your career. With professional and leadership development opportunities like upskilling programs, tuition reimbursement, mentoring, and firmsponsored networking, you can chart a unique and fulfilling career path on your own terms. A Place Where You Belong Diverse perspectives cultivate collective ingenuity. Booz Allens culture of respect, equity, and opportunity means that, here, you are free to bring your whole self to work. With an array of business resource groups and other opportunities for connection, youll develop your community in no time. Support Your WellBeing Our comprehensive benefits package includes wellness programs with HSA contributions, paid holidays, paid parental leave, a generous 401k match, and more. With these benefits, plus the option for flexible schedules and remote and hybrid locations, well support you as you pursue a balanced, fulfilling lifeat work and at home. Your Candidate Journey At Booz Allen, we know our people are what propel us forward, and we value relationships most of all. Here, weve compiled a list of resources so youll know what to expect as we forge a connection with you during your journey as a candidate with us. Compensation At Booz Allen, we celebrate your contributions, provide you with opportunities and choices, and support your total wellbeing. Our offerings include health, life, disability, financial, and retirement benefits, as well as paid leave, professional development, tuition assistance, worklife programs, and dependent care. Our recognition awards program acknowledges employees for exceptional performance and superior demonstration of our values. Fulltime and parttime employees working at least 20 hours a week on a regular basis are eligible to participate in Booz Allens benefit programs. Individuals that do not meet the threshold are only eligible for select offerings, not inclusive of health benefits. We encourage you to learn more about our total benefits by visiting the Resource page on our Careers site and reviewing Our Employee Benefits page. Salary at Booz Allen is determined by various factors, including but not limited to location, the individuals particular combination of education, knowledge, skills, competencies, and experience, as well as contractspecific affordability and organizational requirements. The projected compensation range for this position is 73,100.00 to 166,000.00 annualized USD. The estimate displayed represents the typical salary range for this position and is just one component of Booz Allens total compensation package for employees. Work Model Our peoplefirst culture prioritizes the benefits of flexibility and collaboration, whether that happens in person or remotely. If this position is listed as remote or hybrid, youll periodically work from a Booz Allen or client site facility.If this position is listed as onsite, youll work with colleagues and clients in person, as needed for the specific role. EEO Commitment Were an equal employment opportunityaffirmative action employer that empowers our people to fearlessly drive change no matter their race, color, ethnicity, religion, sex including pregnancy, childbirth, lactation, or related medical conditions, national origin, ancestry, age, marital status, sexual orientation, gender identity and expression, disability, veteran status, military or uniformed service member status, genetic information, or any other status protected by applicable federal, state, local, or international law.',\n",
       "   'Data Scientist Job Number: R0178049 Data Scientist The Opportunity: As a data scientist, youre excited at the prospect of unlocking the secrets held by a data set, and youre fascinated by the possibilities presented by IoT, machine learning, and artificial intelligence. In an increasingly connected world, massive amounts of structured and unstructured data open new opportunities. As a data scientist at Booz Allen, you can help turn these complex data sets into useful information to solve global challenges. Across private and public sectors from fraud detection to cancer research, to national intelligence, we need you to help find the answers in the data. On our team, youll use your leadership skills and data science expertise to create realworld impact. Youll work closely with clients to understand their questions and needs, and then dig into their datarich environments to find the pieces of their information puzzle. Youll guide teammates and lead the development of algorithms and systems. Youll use the right combination of tools and frameworks to turn sets of disparate data points into objective answers to advise your clients as they make informed decisions. Ultimately, youll provide a deep understanding of the data, what it all means, and how it can be used. Work with us as we use data science for good. Join us. The world cant wait. You Have: Experience with data exploration, data cleaning, data analysis, data visualization, or data miningExperience with statistical and generalpurpose programming languages for data analysisExperience with developing predictive data models and quantitative analysesExperience with analyzing structured and unstructured data sourcesTSSCI clearanceHS diploma or GED Nice If You Have: Experience with Python, R, Java, TensorFlow, PyTorch, ApacheSpark, Apache NiFi, SQL, NoSQL, Tableau, JavaScript, Flask, AWS, and AzureExperience with data visualization toolsExperience with sharing or presenting analytic resultsKnowledge of Machine Learning, Artificial Intelligence, or Natural Language ProcessingAbility to take poorly defined problems and convert them into questions for which practical quantitative solutions can be definedAbility to evaluate data methods, models, and algorithmsTSSCI clearance with a polygraphBachelors degree in Data Science, CS, Mathematics, Statistics, or Data Analytics Clearance: Applicants selected will be subject to a security investigation and may need to meet eligibility requirements for access to classified information; TSSCI clearance is required. Create Your Career: Grow With Us Your growth matters to usthats why we offer a variety of ways for you to develop your career. With professional and leadership development opportunities like upskilling programs, tuition reimbursement, mentoring, and firmsponsored networking, you can chart a unique and fulfilling career path on your own terms. A Place Where You Belong Diverse perspectives cultivate collective ingenuity. Booz Allens culture of respect, equity, and opportunity means that, here, you are free to bring your whole self to work. With an array of business resource groups and other opportunities for connection, youll develop your community in no time. Support Your WellBeing Our comprehensive benefits package includes wellness programs with HSA contributions, paid holidays, paid parental leave, a generous 401k match, and more. With these benefits, plus the option for flexible schedules and remote and hybrid locations, well support you as you pursue a balanced, fulfilling lifeat work and at home. Your Candidate Journey At Booz Allen, we know our people are what propel us forward, and we value relationships most of all. Here, weve compiled a list of resources so youll know what to expect as we forge a connection with you during your journey as a candidate with us. Compensation At Booz Allen, we celebrate your contributions, provide you with opportunities and choices, and support your total wellbeing. Our offerings include health, life, disability, financial, and retirement benefits, as well as paid leave, professional development, tuition assistance, worklife programs, and dependent care. Our recognition awards program acknowledges employees for exceptional performance and superior demonstration of our values. Fulltime and parttime employees working at least 20 hours a week on a regular basis are eligible to participate in Booz Allens benefit programs. Individuals that do not meet the threshold are only eligible for select offerings, not inclusive of health benefits. We encourage you to learn more about our total benefits by visiting the Resource page on our Careers site and reviewing Our Employee Benefits page. Salary at Booz Allen is determined by various factors, including but not limited to location, the individuals particular combination of education, knowledge, skills, competencies, and experience, as well as contractspecific affordability and organizational requirements. The projected compensation range for this position is 73,100.00 to 166,000.00 annualized USD. The estimate displayed represents the typical salary range for this position and is just one component of Booz Allens total compensation package for employees. Work Model Our peoplefirst culture prioritizes the benefits of flexibility and collaboration, whether that happens in person or remotely. If this position is listed as remote or hybrid, youll periodically work from a Booz Allen or client site facility.If this position is listed as onsite, youll work with colleagues and clients in person, as needed for the specific role. EEO Commitment Were an equal employment opportunityaffirmative action employer that empowers our people to fearlessly drive change no matter their race, color, ethnicity, religion, sex including pregnancy, childbirth, lactation, or related medical conditions, national origin, ancestry, age, marital status, sexual orientation, gender identity and expression, disability, veteran status, military or uniformed service member status, genetic information, or any other status protected by applicable federal, state, local, or international law.',\n",
       "   'Data Scientist Do you have a strong passion for empirical search? Do you enjoy interpreting trends and patterns? You would like to grow in a collaborative environment within the exciting and thriving field of AI? Join iOLAP, an Elixirr Company, as a Data Scientist and help us translate any business question into just the right analysis to find the best approach and get a valuable answer.As a Data Scientist your primary job will be interpreting the raw data, and working on extracting valuable meaning out of it. Discover the opportunity to join our Data Analytics department and work closely with a group of likeminded individuals with cuttingedge technologies! What you will be doing as a Data Scientist at iOLAP? Managing the full machine learning lifecycleDirectly communicating with clientsStudying and transforming data science prototypesResearching and implementing appropriate ML algorithms and toolsDeveloping machine learning applications according to requirementsSelecting appropriate datasets and data representation methodsRunning machine learning tests and experiments Competencies and skillset we expect you to have to successfully perform your job: Proficiency in Python Jupyter Notebook and core ML libraries Keras, TensorFlow, Pytorch etc.Demonstrable skills in forecasting data preparation and pipeline implementationTechnical fluency in data science lifecycle methodologiesExperience with Recommendation EngineExperience with Customer analytics: Customer segmentation, Persona analysis, Cohort analysis Experience working with AWS cloud platform or Microsoft Azure Experience with model deployment is a bonus: containers, microservices, and serverless functionsStrong validation, unit test, and debugging skillsKnowledge of relational databases and SQLProficient understanding of code versioning tools Git Wonder why iOLAP is the best place to work? Lets talk!',\n",
       "   'Senior DataMachine Learning Engineer Data Engineers develop modern data architecture approaches to meet key business objectives and provide endtoend data solutions. You might spend a few weeks with a new client on a deep technical review or a complete organizational review, helping them to understand the potential that data brings to solve their most pressing problems. On other projects, you might be acting as the architect, leading the design of technical solutions or perhaps overseeing a program inception to build a new product. It could also be a software delivery project where youre equally happy coding and techleading the team to implement the solution. Job responsibilities You will partner with teammates to create complex data processing pipelines in order to solve our clients most complex challengesYou will collaborate with Data Scientists in order to design scalable implementations of their modelsYou will pair to write clean and iterative code based on TDDLeverage various continuous delivery practices to deploy, support and operate data pipelinesAdvise and educate clients on how to use different distributed storage and computing technologies from the plethora of options availableDevelop and operate modern data architecture approaches to meet key business objectives and provide endtoend data solutionsCreate data models and speak to the tradeoffs of different modeling approachesSeamlessly incorporate data quality into your daytoday work as well as into the delivery processAssure effective collaboration between Thoughtworks and the clients teams, encouraging open communication and advocating for shared outcomes Job Qualifications Technical Skills You have a good understanding of data modelling and experience with data engineering tools and platforms such as Kafka, Spark, and HadoopYou have built largescale data pipelines and datacentric applications using any of the distributed storage platforms such as HDFS, S3, NoSQL databases Hbase, Cassandra, etc. and any of the distributed processing platforms like Hadoop, Spark, Hive, Oozie, and Airflow in a production settingHands on experience in MapR, Cloudera, Hortonworks andor cloud AWS EMR, Azure HDInsights, Qubole etc. based Hadoop distributionsYou are comfortable taking datadriven approaches and applying data security strategy to solve business problemsWorking with data excites you: you can build and operate data pipelines, and maintain data storage, all within distributed systemsYoure genuinely excited about data infrastructure and operations with a familiarity working in cloud environments Professional Skills Youre resilient and flexible in ambiguous situations and enjoy solving problems from technical and business perspectivesAn interest in coaching, sharing your experience and knowledge with teammatesYou enjoy influencing others and always advocate for technical excellence while being open to change when neededPresence in the external tech community: you willingly share your expertise with others via speaking engagements, contributions to open source, blogs and more Other things to know Learning Development There is no onesizefitsall career path at Thoughtworks: however you want to develop your career is entirely up to you. But we also balance autonomy with the strength of our cultivation culture. This means your career is supported by interactive tools, numerous development programs and teammates who want to help you grow. We see value in helping each other be our best and that extends to empowering our employees in their career journeys. Diversity Inclusion Thoughtworks is committed to the full inclusion of all qualified individuals. As part of this commitment, Thoughtworks will ensure that persons with disabilities are provided reasonable accommodations. If reasonable accommodation is needed, submit a request through this form. About Thoughtworks Thoughtworks is a global technology consultancy that integrates strategy, design and engineering to drive digital innovation. For 30 years, our clients have trusted our autonomous teams to build solutions that look past the obvious. Here, computer science grads come together with seasoned technologists, selftaught developers, midlife career changers and more to learn from and challenge each other. Career journeys flourish with the strength of our cultivation culture, which has won numerous awards around the world. Join Thoughtworks and thrive. Together, our extra curiosity, innovation, passion and dedication overcomes ordinary. Salary Benefits: https:www.thoughtworks.comenuscareersbenefits The annual salary range posted is subject to many factors and may vary depending on experience, geographic location, job responsibilities, performance, skills andor training. Salary 112,000172,000 USD ',\n",
       "   'Data Engineer Position: Data EngineerDuration: 10Months ContractLocation: 100 Remote Role Skills Required:7 years of Development experience building data pipelines using Cloud technologies.5 years of experience in architecture of modern data warehousing.5 years of experience with platforms using technologies such as Snowflake or Redshift.Strong Cloud experience S3, Step Functions, Glue and AirflowGood python development for data transfers and extractions ELT and ETL',\n",
       "   'Data Engineer, Google Nest Minimum qualifications: Bachelors degree in Computer Science, a related technical field, or equivalent practical experience.Experience analyzing data and creating reports with database query e.g., SQL and visualization tools e.g., Tableau, Dashboards.Experience with one or more general purpose programming languages: Python, CC, or Java. Preferred qualifications: Knowledge of Machine Learning ML and Big Data Infrastructure.Excellent communication and presentation skills. About The Job The Business Strategy Operations organization provides business critical insights using analytics, ensures cross functional alignment of goals and execution, and helps teams drive strategic partnerships and new initiatives forward. We stay focused on aligning the highestlevel company priorities with effective daytoday operations, and help evolve early stage ideas into futuregrowth initiatives. The Google Nest team focuses on hardware, software, and services for the home, ranging from Nest thermostats to Nest smart displays. The Google Nest team develops, designs, and develops new technologies and hardware to make users homes more helpful. Our mission is the helpful home: to create a home that cares for the people inside it and the world around it. The US base salary range for this fulltime position is 115,000169,000 bonus equity benefits. Our salary ranges are determined by role, level, and location. The range displayed on each job posting reflects the minimum and maximum target for new hire salaries for the position across all US locations. Within the range, individual pay is determined by work location and additional factors, including jobrelated skills, experience, and relevant education or training. Your recruiter can share more about the specific salary range for your preferred location during the hiring process. Please note that the compensation details listed in US role postings reflect the base salary only, and do not include bonus, equity, or benefits. Learn more about benefits at Google . Responsibilities Collaborate with Google Home App GHA, Home Graph and other Platform engineering team to ensure infrastructure supports key analyses by identifying logging gaps. Build or Modify newexisting data pipelines for tracking GHA metrics.Conduct endtoend analysis that includes data gathering and requirements specification, processing, analysis, ongoing deliverables, and presentations.Act as a thought partner to produce insights and metrics for various technical and business stakeholders across the Smart Home Platforms teams.Deliver presentations of findings and recommendations to leadership, creating visual displays of quantitative information.Make business recommendations with the presentations of findings at multiple levels of stakeholders through visual displays of quantitative information. Google is proud to be an equal opportunity workplace and is an affirmative action employer. We are committed to equal employment opportunity regardless of race, color, ancestry, religion, sex, national origin, sexual orientation, age, citizenship, marital status, disability, gender identity or Veteran status. We also consider qualified applicants regardless of criminal histories, consistent with legal requirements. See also Googles EEO Policy and EEO is the Law. If you have a disability or special need that requires accommodation, please let us know by completing our Accommodations for Applicants form .',\n",
       "   'Data Scientist Job Number: R0177276 Data Scientist The Opportunity: As a data scientist, youre excited at the prospect of unlocking the secrets held by a data set, and youre fascinated by the possibilities presented by IoT, machine learning, and artificial intelligence. In an increasingly connected world, massive amounts of structured and unstructured data open new opportunities. As a data scientist at Booz Allen, you can help turn these complex data sets into useful information to solve global challenges. Across private and public sectorsfrom fraud detection to cancer research to national intelligencewe need you to help find the answers in the data. On our team, youll use your leadership skills and data science expertise to create realworld impact. Youll work closely with clients to understand their questions and needs, and then dig into their datarich environments to find the pieces of their information puzzle. Youll guide teammates and lead the development of algorithms and systems. Youll use the right combination of tools and frameworks to turn sets of disparate data points into objective answers to advise your clients as they make informed decisions. Ultimately, youll provide a deep understanding of the data, what it all means, and how it can be used. Work with us as we use data science for good. Join us. The world cant wait. You Have: 5 years of experience with data exploration, data cleaning, data analysis, data visualization, or data mining 5 years of experience with statistical and generalpurpose programming languages for data analysis 5 years of experience with analyzing structured and unstructured data sources Experience with developing predictive data models, quantitative analyses, and visualization of targeted data sources Experience with leading the development of solutions to complex programs Experience with natural language processing, text mining, or machine learning techniques Secret clearance Bachelors degree Nice If You Have: Experience in the development of algorithms leveraging R, Python, or SQLNoSQL Experience with distributed data and computing tools, including MapReduce, Hadoop, Hive, EMR, Kafka, Spark, Gurobi, or MySQL Experience with visualization packages, including Plotly, Seaborn, or ggplot2 Top Secret clearance Clearance: Applicants selected will be subject to a security investigation and may need to meet eligibility requirements for access to classified information; Secret clearance is required. Create Your Career: Grow With Us Your growth matters to usthats why we offer a variety of ways for you to develop your career. With professional and leadership development opportunities like upskilling programs, tuition reimbursement, mentoring, and firmsponsored networking, you can chart a unique and fulfilling career path on your own terms. A Place Where You Belong Diverse perspectives cultivate collective ingenuity. Booz Allens culture of respect, equity, and opportunity means that, here, you are free to bring your whole self to work. With an array of business resource groups and other opportunities for connection, youll develop your community in no time. Support Your WellBeing Our comprehensive benefits package includes wellness programs with HSA contributions, paid holidays, paid parental leave, a generous 401k match, and more. With these benefits, plus the option for flexible schedules and remote and hybrid locations, well support you as you pursue a balanced, fulfilling lifeat work and at home. Your Candidate Journey At Booz Allen, we know our people are what propel us forward, and we value relationships most of all. Here, weve compiled a list of resources so youll know what to expect as we forge a connection with you during your journey as a candidate with us. Compensation At Booz Allen, we celebrate your contributions, provide you with opportunities and choices, and support your total wellbeing. Our offerings include health, life, disability, financial, and retirement benefits, as well as paid leave, professional development, tuition assistance, worklife programs, and dependent care. Our recognition awards program acknowledges employees for exceptional performance and superior demonstration of our values. Fulltime and parttime employees working at least 20 hours a week on a regular basis are eligible to participate in Booz Allens benefit programs. Individuals that do not meet the threshold are only eligible for select offerings, not inclusive of health benefits. We encourage you to learn more about our total benefits by visiting the Resource page on our Careers site and reviewing Our Employee Benefits page. Salary at Booz Allen is determined by various factors, including but not limited to location, the individuals particular combination of education, knowledge, skills, competencies, and experience, as well as contractspecific affordability and organizational requirements. The projected compensation range for this position is 93,300.00 to 212,000.00 annualized USD. The estimate displayed represents the typical salary range for this position and is just one component of Booz Allens total compensation package for employees. Work Model Our peoplefirst culture prioritizes the benefits of flexibility and collaboration, whether that happens in person or remotely. If this position is listed as remote or hybrid, youll periodically work from a Booz Allen or client site facility.If this position is listed as onsite, youll work with colleagues and clients in person, as needed for the specific role. EEO Commitment Were an equal employment opportunityaffirmative action employer that empowers our people to fearlessly drive change no matter their race, color, ethnicity, religion, sex including pregnancy, childbirth, lactation, or related medical conditions, national origin, ancestry, age, marital status, sexual orientation, gender identity and expression, disability, veteran status, military or uniformed service member status, genetic information, or any other status protected by applicable federal, state, local, or international law.',\n",
       "   'ETL Developer Python, Pentaho, AWS Data Analytics Development Engineer Skills required:Very skilled in Python developmentVery skilled in performing PythonData Stage Code reviewsVery skilled in SQLVery skilled in Data Modeling with both Oracle and SQL DatabasesDatabase query tuningCloud experience AWSGCP is a plus.DataStage or Pentaho or Infromatica Must Haves:Very strong in the following areas DW methodologies, Data Marts, Cloud experience preferably GCP, Data Ingestion via multiple sources like SQL server, mainframe files, APIs, JSON feeds etc using Python, DataStage, LinuxNice to have Guidewire, Autosys, developing Architecture and Dataflow diagramsSelfmotivated, thorough with quality work they do, work with minimal supervisionStrong verbal and communication skills, effective communication is essential as team dynamics change quicklyNo customer service skills are needed but will interact with internal business partnersInsurance is strongly preferred but not mandatory10 years of experience Work Environment:o Small teamo Very dynamico Need to support other team members as neededo Must be a strong team playero Good communication skills',\n",
       "   'Data Scientist Job Number: R0177979 Data Scientist The Opportunity: As a data scientist, youre excited at the prospect of unlocking the secrets held by a data set, and youre fascinated by the possibilities presented by IoT, machine learning, and artificial intelligence. In an increasingly connected world, massive amounts of structured and unstructured data open new opportunities. As a data scientist at Booz Allen, you can help turn these complex data sets into useful information to solve global challenges. Across private and public sectorsfrom fraud detection to cancer research to national intelligencewe need you to help find the answers in the data. On our team, youll use your analytical skills and data science knowledge to create realworld impact. Youll work closely with your clients to understand their questions and needs, and then dig into their datarich environments to find the pieces of their information puzzle. Youll develop algorithms and systems and use the right combination of tools and frameworks to turn sets of disparate data points into objective answers to help clients make informed decisions. Ultimately, youll provide a deep understanding of the data, what it all means, and how it can be used. Work with us as we use data science for good. Join us. The world cant wait. You Have: 3 years of experience in a professional work environment Experience with data analytics and data visualization tools, including Qlik, Tableau, or Power BIExperience with scripting languages, including SQL, Python, or RExperience with briefing techniques and methods, delivering findings to nontechnical audiences, including senior military or government leadersKnowledge of operations research techniques, including probability and statistical methodsAbility to clean and build analytical data sets or pipelines from existing sources, when data engineering resources arent availableAbility to obtain a security clearance Bachelors degree Nice If You Have: Secret clearanceBachelors degree in Economics, Operations Research, Management Science, Mathematics, Statistics, or Engineering preferred; Masters degree in Economics, Operations Research, Management Science, Mathematics, Statistics, or Engineering a plus Clearance: Applicants selected will be subject to a security investigation and may need to meet eligibility requirements for access to classified information. Create Your Career: Grow With Us Your growth matters to usthats why we offer a variety of ways for you to develop your career. With professional and leadership development opportunities like upskilling programs, tuition reimbursement, mentoring, and firmsponsored networking, you can chart a unique and fulfilling career path on your own terms. A Place Where You Belong Diverse perspectives cultivate collective ingenuity. Booz Allens culture of respect, equity, and opportunity means that, here, you are free to bring your whole self to work. With an array of business resource groups and other opportunities for connection, youll develop your community in no time. Support Your WellBeing Our comprehensive benefits package includes wellness programs with HSA contributions, paid holidays, paid parental leave, a generous 401k match, and more. With these benefits, plus the option for flexible schedules and remote and hybrid locations, well support you as you pursue a balanced, fulfilling lifeat work and at home. Your Candidate Journey At Booz Allen, we know our people are what propel us forward, and we value relationships most of all. Here, weve compiled a list of resources so youll know what to expect as we forge a connection with you during your journey as a candidate with us. Compensation At Booz Allen, we celebrate your contributions, provide you with opportunities and choices, and support your total wellbeing. Our offerings include health, life, disability, financial, and retirement benefits, as well as paid leave, professional development, tuition assistance, worklife programs, and dependent care. Our recognition awards program acknowledges employees for exceptional performance and superior demonstration of our values. Fulltime and parttime employees working at least 20 hours a week on a regular basis are eligible to participate in Booz Allens benefit programs. Individuals that do not meet the threshold are only eligible for select offerings, not inclusive of health benefits. We encourage you to learn more about our total benefits by visiting the Resource page on our Careers site and reviewing Our Employee Benefits page. Salary at Booz Allen is determined by various factors, including but not limited to location, the individuals particular combination of education, knowledge, skills, competencies, and experience, as well as contractspecific affordability and organizational requirements. The projected compensation range for this position is 73,000.00 to 166,000.00 annualized USD. The estimate displayed represents the typical salary range for this position and is just one component of Booz Allens total compensation package for employees. Work Model Our peoplefirst culture prioritizes the benefits of flexibility and collaboration, whether that happens in person or remotely. If this position is listed as remote or hybrid, youll periodically work from a Booz Allen or client site facility.If this position is listed as onsite, youll work with colleagues and clients in person, as needed for the specific role. EEO Commitment Were an equal employment opportunityaffirmative action employer that empowers our people to fearlessly drive change no matter their race, color, ethnicity, religion, sex including pregnancy, childbirth, lactation, or related medical conditions, national origin, ancestry, age, marital status, sexual orientation, gender identity and expression, disability, veteran status, military or uniformed service member status, genetic information, or any other status protected by applicable federal, state, local, or international law.',\n",
       "   'Senior Tech Lead 8 plus years of experience with programming languages such PL SQL codingEasily design and implement a business process into functional and efficient codeImplement and manage company data management practices and policiesAt least 5 years of experience in administering, managing and tuning databasesAt least 5 years of experience with Oracle RAC, SQL Server or MySQLGood understanding of data and schema standards and conceptsGood understand database design, implementation, troubleshooting and maintenanceExpertise in SQLWorking with GIT Bitbucket, Maven, Gradle, Jenkins tools to build and deploy code deployment to production environments.Sense of ownership and pride in your performance and its impact on company successCritical thinker and problemsolving skillsTeam playerGood timemanagement skillsGreat interpersonal and communication skills',\n",
       "   'Python Data Engineer Title: Python Data EngineerPlano, TX Wilmington, DE Day one OnsiteFTE, Permanent Job Description:8 years of professional work experience designing and implementing data pipelines in a cloud environment is required.5 years of experience migratingdeveloping data solutions in the AWS cloud is required.2 years of experience buildingimplementing data pipelines using Databricks or similar cloud database.Expert level knowledge of using SQL to write complex, highly optimized queries across large volumes of data.Handson objectoriented programming experience using Python is required.Professional work experience building realtime data streams using Spark and Experience in Spark.Knowledge or experience in architectural best practices in building data lakes',\n",
       "   'Data Scientist Role DescriptionThis is a contract Data Scientist role located in Redmond, WA. As a Data Scientist, you will be responsible for daytoday tasks such as data analysis, data visualization, statistics, and data analytics to support decision making. QualificationsJob Description: Summary:The main function of a Data Scientist is to coordinate changes to computer databases, test, and implement the database applying knowledge of database management systems. Job Responsibilities: Work with senior management, technical and client teams in order to determine data requirements, business data implementation approaches, best practices for advanced data manipulation, storage and analysis strategies Write and code logical and physical database descriptions and specify identifiers of database to management system or direct others in coding descriptions Design, implement, automate and maintain large scale enterprise data ETL processes Modify existing databases and database management systems andor direct programmers and analysts to make changes Test programs or databases, correct errors and make necessary modifications Qualifications: Bachelors degree in a technical field such as computer science, computer engineering or related field required 24 years applicable experience required Experience with database technologies Knowledge of the ETL process Knowledge of at least one scripting language Strong written and oral communication skills Strong troubleshooting and problem solving skills Demonstrated history of success Desire to be working with data and helping businesses make better data driven decisions Years of Experience Required They are looking for approximately 57 years of experience in this role working in support of government experienceprojects and being familiar with deep research processes, techniques, and approaches. Scholarly research directives and familiarity with data science tools, software development, or passion for codingsoftware tools is very beneficial.Degrees or certifications required PHD is not required however the prior backfill has this. This is preferred but not required, experience may alleviate the requirement for making a PHD a mandatory requirement',\n",
       "   'Lead DataMachine Learning Engineer Data Engineers develop modern data architecture approaches to meet key business objectives and provide endtoend data solutions. You might spend a few weeks with a new client on a deep technical review or a complete organizational review, helping them to understand the potential that data brings to solve their most pressing problems. On other projects, you might be acting as the architect, leading the design of technical solutions, or perhaps overseeing a program inception to build a new product. It could also be a software delivery project where youre equally happy coding and techleading the team to implement the solution. Job responsibilities You might spend a few weeks with a new client on a deep technical review or a complete organizational review, helping them to understand the potential that data brings to solve their most pressing problemsYou will partner with teammates to create complex data processing pipelines in order to solve our clients most ambitious challengesYou will collaborate with Data Scientists in order to design scalable implementations of their modelsYou will pair to write clean and iterative code based on TDD and leverage various continuous delivery practices to deploy, support and operate data pipelinesAdvise and educate clients on how to use different distributed storage and computing technologies from the plethora of options availableDevelop and operate modern data architecture approaches to meet key business objectives and provide endtoend data solutionsCreate data models and speak to the tradeoffs of different modeling approachesOn other projects, you might be acting as the architect, leading the design of technical solutions, or perhaps overseeing a program inception to build a new productSeamlessly incorporate data quality into your daytoday work as well as into the delivery processAssure effective collaboration between Thoughtworks and the clients teams, encouraging open communication and advocating for shared outcomes Job Qualifications Technical Skills You are equally happy coding and leading a team to implement a solutionYou have a track record of innovation and expertise in Data EngineeringYoure passionate about craftsmanship and have applied your expertise across a range of industries and organizationsYou have a deep understanding of data modelling and experience with data engineering tools and platforms such as Kafka, Spark, and HadoopYou have built largescale data pipelines and datacentric applications using any of the distributed storage platforms such as HDFS, S3, NoSQL databases Hbase, Cassandra, etc. and any of the distributed processing platforms like Hadoop, Spark, Hive, Oozie, and Airflow in a production settingHands on experience in MapR, Cloudera, Hortonworks andor cloud AWS EMR, Azure HDInsights, Qubole etc. based Hadoop distributionsYou are comfortable taking datadriven approaches and applying data security strategy to solve business problemsYoure genuinely excited about data infrastructure and operations with a familiarity working in cloud environmentsWorking with data excites you: you have created Big data architecture, you can build and operate data pipelines, and maintain data storage, all within distributed systems Professional Skills Advocate your data engineering expertise to the broader tech community outside of Thoughtworks, speaking at conferences and acting as a mentor for more juniorlevel data engineersYoure resilient and flexible in ambiguous situations and enjoy solving problems from technical and business perspectivesAn interest in coaching others, sharing your experience and knowledge with teammatesYou enjoy influencing others and always advocate for technical excellence while being open to change when needed Other things to know Learning Development There is no onesizefitsall career path at Thoughtworks: however you want to develop your career is entirely up to you. But we also balance autonomy with the strength of our cultivation culture. This means your career is supported by interactive tools, numerous development programs and teammates who want to help you grow. We see value in helping each other be our best and that extends to empowering our employees in their career journeys. Diversity Inclusion Thoughtworks is committed to the full inclusion of all qualified individuals. As part of this commitment, Thoughtworks will ensure that persons with disabilities are provided reasonable accommodations. If reasonable accommodation is needed, submit a request through this form. About Thoughtworks Thoughtworks is a global technology consultancy that integrates strategy, design and engineering to drive digital innovation. For 30 years, our clients have trusted our autonomous teams to build solutions that look past the obvious. Here, computer science grads come together with seasoned technologists, selftaught developers, midlife career changers and more to learn from and challenge each other. Career journeys flourish with the strength of our cultivation culture, which has won numerous awards around the world. Join Thoughtworks and thrive. Together, our extra curiosity, innovation, passion and dedication overcomes ordinary. Salary Benefits: https:www.thoughtworks.comenuscareersbenefits The annual salary range posted is subject to many factors and may vary depending on experience, geographic location, job responsibilities, performance, skills andor training. Salary 165,000250,000 USD ',\n",
       "   'Lead DataMachine Learning Engineer Data Engineers develop modern data architecture approaches to meet key business objectives and provide endtoend data solutions. You might spend a few weeks with a new client on a deep technical review or a complete organizational review, helping them to understand the potential that data brings to solve their most pressing problems. On other projects, you might be acting as the architect, leading the design of technical solutions, or perhaps overseeing a program inception to build a new product. It could also be a software delivery project where youre equally happy coding and techleading the team to implement the solution. Job responsibilities You might spend a few weeks with a new client on a deep technical review or a complete organizational review, helping them to understand the potential that data brings to solve their most pressing problemsYou will partner with teammates to create complex data processing pipelines in order to solve our clients most ambitious challengesYou will collaborate with Data Scientists in order to design scalable implementations of their modelsYou will pair to write clean and iterative code based on TDD and leverage various continuous delivery practices to deploy, support and operate data pipelinesAdvise and educate clients on how to use different distributed storage and computing technologies from the plethora of options availableDevelop and operate modern data architecture approaches to meet key business objectives and provide endtoend data solutionsCreate data models and speak to the tradeoffs of different modeling approachesOn other projects, you might be acting as the architect, leading the design of technical solutions, or perhaps overseeing a program inception to build a new productSeamlessly incorporate data quality into your daytoday work as well as into the delivery processAssure effective collaboration between Thoughtworks and the clients teams, encouraging open communication and advocating for shared outcomes Job Qualifications Technical Skills You are equally happy coding and leading a team to implement a solutionYou have a track record of innovation and expertise in Data EngineeringYoure passionate about craftsmanship and have applied your expertise across a range of industries and organizationsYou have a deep understanding of data modelling and experience with data engineering tools and platforms such as Kafka, Spark, and HadoopYou have built largescale data pipelines and datacentric applications using any of the distributed storage platforms such as HDFS, S3, NoSQL databases Hbase, Cassandra, etc. and any of the distributed processing platforms like Hadoop, Spark, Hive, Oozie, and Airflow in a production settingHands on experience in MapR, Cloudera, Hortonworks andor cloud AWS EMR, Azure HDInsights, Qubole etc. based Hadoop distributionsYou are comfortable taking datadriven approaches and applying data security strategy to solve business problemsYoure genuinely excited about data infrastructure and operations with a familiarity working in cloud environmentsWorking with data excites you: you have created Big data architecture, you can build and operate data pipelines, and maintain data storage, all within distributed systems Professional Skills Advocate your data engineering expertise to the broader tech community outside of Thoughtworks, speaking at conferences and acting as a mentor for more juniorlevel data engineersYoure resilient and flexible in ambiguous situations and enjoy solving problems from technical and business perspectivesAn interest in coaching others, sharing your experience and knowledge with teammatesYou enjoy influencing others and always advocate for technical excellence while being open to change when needed Other things to know Learning Development There is no onesizefitsall career path at Thoughtworks: however you want to develop your career is entirely up to you. But we also balance autonomy with the strength of our cultivation culture. This means your career is supported by interactive tools, numerous development programs and teammates who want to help you grow. We see value in helping each other be our best and that extends to empowering our employees in their career journeys. Diversity Inclusion Thoughtworks is committed to the full inclusion of all qualified individuals. As part of this commitment, Thoughtworks will ensure that persons with disabilities are provided reasonable accommodations. If reasonable accommodation is needed, submit a request through this form. About Thoughtworks Thoughtworks is a global technology consultancy that integrates strategy, design and engineering to drive digital innovation. For 30 years, our clients have trusted our autonomous teams to build solutions that look past the obvious. Here, computer science grads come together with seasoned technologists, selftaught developers, midlife career changers and more to learn from and challenge each other. Career journeys flourish with the strength of our cultivation culture, which has won numerous awards around the world. Join Thoughtworks and thrive. Together, our extra curiosity, innovation, passion and dedication overcomes ordinary. Salary Benefits: https:www.thoughtworks.comenuscareersbenefits The annual salary range posted is subject to many factors and may vary depending on experience, geographic location, job responsibilities, performance, skills andor training. Salary 137,000211,000 USD ',\n",
       "   'Python Data Engineer 5 8 years of professional work experience designing and implementing data pipelines in a cloud environment is required.3 years of experience migratingdeveloping data solutions in the AWS cloud is required.1 years of experience buildingimplementing data pipelines using Databricks or similar cloud database.Expert level knowledge of using SQL to write complex, highly optimized queries across large volumes of data.Handson objectoriented programming experience using Python is required.Professional work experience building realtime data streams using Spark and Experience in Spark.Knowledge or experience in architectural best practices in building data lakesExperience with AWS, PySpark, PySQL, DBx, Data Transformations',\n",
       "   'Data Engineer Daily Responsibilities Serve as a key contributor to development, design, and maintain of data warehouses Performs Data Warehousing ResponsibilitiesCollaborate with Stakeholders to understand business needs and processesDeveloper queries for the extraction for analysis and model constructionDesign and Develop Data PipelinesExtract, Transform, and Load Data from Multiple Sources RequirementsWhat are the top 35 key requirements Working Knowledge of all MS Office Suite ProductsStrong Communication SkillsExperience with Cloud based technologies2 Years of Engineering and Development Experience with SQL, Python, Snowflake, Azure Preferred Qualifications Experience in the financial services industry Experience with other languages such as R, ScaliaSpark, Java, Etc. and API First ArchitecturesExperience with DevOps, SSRS, Tableau, PowerBI, Smartsheet, LucidChart, DBTKnowledge and Experience with Differing Warehouse Design MethodologiesCloud Based Solution Design and Engineering',\n",
       "   'Big Data Engineer Work Location : Wilmington, DL. Preferred, Richmond, VA. Philadelphia, PA. Hybrid. 3 days a week onsite Top Skills: Data Modernization Project Building and designing Schemas Extensive experience with Data Applications. Python Extensive exp. Spark, Strong AWS Critical and Must Have AWS services: EMR. EC2, RDBMS, S3 JavaScala exp. with either of this is fine, Data Modelling experience is a plus',\n",
       "   'Environmental Engineer Data Scientist Are you a Data Scientist with an Environmental Engineering background? Looking for a fulltime, Pythoncentric data science role at a renowned, clientcentric firm? Backpack Talent is seeking highachieving, innovative data scientists with prior experience in environmental engineering GIS data to join a wellestablished, privatelyheld global environmental engineering firm. Candidates with prior applied experience with Python, ML modeling, and handson experience with GIS data are preferred. On the daytoday, you can expect to analyze client data, build and iterate on machine learning ML models, improve clientfacing data product offerings, and work with a variety of practice leaders in the water industry. An interest in LLMs, ML, and AI is preferred! Requirements:35 years of data engineering or data science experienceA civil or environmental engineering degree or related Direct experience with ML modeling Python preferred to RWillingness to work in a hybrid capacity, local to Denver, Colorado, Seattle, Washington, RaleighDurham, North Carolina, or Dallas, Texas. This is a NEW W2 role. No C2C, no recruiters. Strong salarybenefits, performance bonus, flexibility, generous PTO plan, fun work environment LIjobs datascience python kendra LLM GIS environmental engineering',\n",
       "   'Data Analyst Designation: Entry Level Data Analyst Knowledge of analytical methods and problem analysis techniques related to institutional research and assessment.Knowledge of computer applications required for data extraction from BANNER and analysis.Organizational skills.Analytical skills.Strong written and oral communication skills.Ability to organize data in a meaningful and easily understood format.Ability to meet project deadlines.Ability to adapt to multiple competing demands.Ability to use database software such as access and excel. ',\n",
       "   'No C2COnly LocalLogistics Analyst Key Qualifications 3 5 years of work experience preferredAgility exploring complex data sets utilizing data visualization tools e.g., Excel Tableau mandatoryBasic programming skills in Python or wiliness to learn preferredShould be good with Documentation Familiarity with Logistics and Operations terminologyFamiliarity with Business Objects a plus Ability to turn data into information and insightsHighlevel attention to detail, including the ability to spot data errors and potential issues in Clients internal systemsSelfstarter with the ability to work independently Excellent written and verbal communicator, with engaging interpersonal skillsA positive, enthusiastic attitude and a sincere willingness to learn from team members at all levels Hard Skills:Tools Microsoft Excel Pivot Tables, Sumifs, Vlookups etc Tableau Good Verbal and Communication skills',\n",
       "   'Data Engineer Job Description: Design, develop, and launch extremely efficient and reliable data pipelines to move data and to provide intuitive analytics to our partner teams. Make data more discoverable and easy to use for Data Scientists and Analysts across the service operations organization Collaborate with other engineers and Data Scientists to discover the best solutions. Diagnose and solve issues in our existing data pipelines and envision and build their successors. Qualifications: Good understanding of one or more of the following: Python, Scala, or Java Strong understanding of SQL Broad knowledge of the data infrastructure ecosystem Experience with Hadoop or other MapReducebased architectures Experience working with large data volumes Experience in building Data Warehouses and data modeling.Experience with any of the following is a plus: BigQuery, Presto, or HiveInterest in learning Data Bricks',\n",
       "   'Entry Level Data Analyst Designation: Entry Level Data Analyst Knowledge of analytical methods and problem analysis techniques related to institutional research and assessment.Knowledge of computer applications required for data extraction from BANNER and analysis.Organizational skills.Analytical skills.Strong written and oral communication skills.Ability to organize data in a meaningful and easily understood format.Ability to meet project deadlines.Ability to adapt to multiple competing demands.Ability to use database software such as access and excel. ']],\n",
       " 'uris': None,\n",
       " 'data': None}"
      ]
     },
     "execution_count": 169,
     "metadata": {},
     "output_type": "execute_result"
    }
   ],
   "source": [
    "results = collection.query(\n",
    "    query_texts=[query_string],\n",
    "    n_results=25\n",
    ")\n",
    "\n",
    "results"
   ]
  },
  {
   "cell_type": "code",
   "execution_count": 170,
   "id": "66623c0f",
   "metadata": {},
   "outputs": [
    {
     "data": {
      "text/plain": [
       "dict"
      ]
     },
     "execution_count": 170,
     "metadata": {},
     "output_type": "execute_result"
    }
   ],
   "source": [
    "type(results)"
   ]
  },
  {
   "cell_type": "code",
   "execution_count": 171,
   "id": "877123fc",
   "metadata": {},
   "outputs": [],
   "source": [
    "companies = list({i.split(\":\")[1] for i in results['ids'][0]})"
   ]
  },
  {
   "cell_type": "code",
   "execution_count": 172,
   "id": "41c04e5c",
   "metadata": {},
   "outputs": [
    {
     "data": {
      "text/plain": [
       "18"
      ]
     },
     "execution_count": 172,
     "metadata": {},
     "output_type": "execute_result"
    }
   ],
   "source": [
    "len(companies)"
   ]
  },
  {
   "cell_type": "code",
   "execution_count": 173,
   "id": "537be903",
   "metadata": {},
   "outputs": [],
   "source": [
    "jobs = [i.split(\":\")[0] for i in results['ids'][0]]"
   ]
  },
  {
   "cell_type": "code",
   "execution_count": 174,
   "id": "0be99688",
   "metadata": {},
   "outputs": [
    {
     "data": {
      "text/plain": [
       "25"
      ]
     },
     "execution_count": 174,
     "metadata": {},
     "output_type": "execute_result"
    }
   ],
   "source": [
    "len(jobs)"
   ]
  },
  {
   "cell_type": "markdown",
   "id": "0f6eb699",
   "metadata": {},
   "source": [
    "### Top job titles based on my profile"
   ]
  },
  {
   "cell_type": "code",
   "execution_count": 175,
   "id": "58f5306d",
   "metadata": {},
   "outputs": [],
   "source": [
    "def runQuery(statement, params):\n",
    "        # This didn't return the newly inserted rows in table\n",
    "        #db_table = pd.read_sql(statement, self.connection)\n",
    "        pg_cursor.execute(statement, params)\n",
    "        db_list = pg_cursor.fetchall()\n",
    "        colnames = [desc[0] for desc in pg_cursor.description]\n",
    "        db_table = pd.DataFrame(db_list, columns=colnames)\n",
    "        return db_table"
   ]
  },
  {
   "cell_type": "code",
   "execution_count": 280,
   "id": "b8f6d4c2",
   "metadata": {},
   "outputs": [],
   "source": [
    "postgres_query = f\"\"\"\n",
    "select job_id, c.name, title, formatted_work_type as work_type, location\n",
    "from job_postings t1, unnest(%s) j_id, companies c\n",
    "where job_id::text = j_id::text\n",
    "and c.company_id = t1.company_id\n",
    "\"\"\""
   ]
  },
  {
   "cell_type": "code",
   "execution_count": 307,
   "id": "fa2b44a5",
   "metadata": {},
   "outputs": [],
   "source": [
    "results = runQuery(postgres_query, (jobs,))"
   ]
  },
  {
   "cell_type": "code",
   "execution_count": 308,
   "id": "dcb5d4d8",
   "metadata": {},
   "outputs": [],
   "source": [
    "company_names = list(results['name'].unique())"
   ]
  },
  {
   "cell_type": "code",
   "execution_count": 320,
   "id": "3fb9ba0e",
   "metadata": {},
   "outputs": [],
   "source": [
    "location_query = \"\"\"\n",
    "with main_query as (select job_id, c.name, title, formatted_work_type as work_type, location\n",
    "from job_postings t1, unnest(%s) j_id, companies c\n",
    "where job_id::text = j_id::text\n",
    "and c.company_id = t1.company_id) \n",
    "select location, count(*) as jobs_in_this_location\n",
    "from main_query\n",
    "where location != 'United States'\n",
    "group by location\n",
    "order by count(*) desc\n",
    "\"\"\""
   ]
  },
  {
   "cell_type": "code",
   "execution_count": 321,
   "id": "ae0f66a2",
   "metadata": {},
   "outputs": [],
   "source": [
    "locations = runQuery(location_query, (jobs,))"
   ]
  },
  {
   "cell_type": "code",
   "execution_count": 322,
   "id": "ed6eea7a",
   "metadata": {},
   "outputs": [
    {
     "data": {
      "text/plain": [
       "<AxesSubplot: xlabel='jobs_in_this_location', ylabel='location'>"
      ]
     },
     "execution_count": 322,
     "metadata": {},
     "output_type": "execute_result"
    },
    {
     "data": {
      "image/png": "[encoded data removed]",
      "text/plain": [
       "<Figure size 800x800 with 1 Axes>"
      ]
     },
     "metadata": {},
     "output_type": "display_data"
    }
   ],
   "source": [
    "import seaborn as sns\n",
    "fig = plt.figure(figsize=(8,8))\n",
    "sns.barplot(y='location',x='jobs_in_this_location',data=locations)"
   ]
  },
  {
   "cell_type": "code",
   "execution_count": 325,
   "id": "899e5b5b",
   "metadata": {},
   "outputs": [],
   "source": [
    "titles_query = \"\"\"\n",
    "with main_query as (select job_id, c.name, title, formatted_work_type as work_type, location\n",
    "from job_postings t1, unnest(%s) j_id, companies c\n",
    "where job_id::text = j_id::text\n",
    "and c.company_id = t1.company_id) \n",
    "select title, count(*) as job_titles\n",
    "from main_query\n",
    "group by title\n",
    "order by count(*) desc\n",
    "\"\"\""
   ]
  },
  {
   "cell_type": "code",
   "execution_count": 326,
   "id": "078785a4",
   "metadata": {},
   "outputs": [],
   "source": [
    "titles = runQuery(titles_query, (jobs,))"
   ]
  },
  {
   "cell_type": "code",
   "execution_count": 332,
   "id": "c4dcd158",
   "metadata": {},
   "outputs": [],
   "source": [
    "titles['title'] = titles['title'].apply(clean_text)"
   ]
  },
  {
   "cell_type": "code",
   "execution_count": 333,
   "id": "f663f905",
   "metadata": {},
   "outputs": [
    {
     "data": {
      "text/plain": [
       "<AxesSubplot: xlabel='job_titles', ylabel='title'>"
      ]
     },
     "execution_count": 333,
     "metadata": {},
     "output_type": "execute_result"
    },
    {
     "data": {
      "image/png": "[encoded data removed]",
      "text/plain": [
       "<Figure size 800x800 with 1 Axes>"
      ]
     },
     "metadata": {},
     "output_type": "display_data"
    }
   ],
   "source": [
    "import seaborn as sns\n",
    "fig = plt.figure(figsize=(8,8))\n",
    "sns.barplot(y='title',x='job_titles',data=titles)"
   ]
  },
  {
   "cell_type": "markdown",
   "id": "1fed4040",
   "metadata": {},
   "source": [
    "### Graph"
   ]
  },
  {
   "cell_type": "code",
   "execution_count": 217,
   "id": "b092f642",
   "metadata": {},
   "outputs": [],
   "source": [
    "import pandas as pd\n",
    "import json\n",
    "from utils import mongo_utils, pandas_utils, neo4j_utils\n",
    "import matplotlib.pyplot as plt\n",
    "from py2neo import Graph, Node, Relationship\n",
    "import networkx as nx"
   ]
  },
  {
   "cell_type": "code",
   "execution_count": 218,
   "id": "572b49e6",
   "metadata": {},
   "outputs": [],
   "source": [
    "neo_creds = {\n",
    "    'host': 'localhost',\n",
    "    'port': '7687',\n",
    "    'user': 'neo4j',\n",
    "    'password': 'Aagaaz@786'\n",
    "}\n",
    "\n",
    "neoCon = neo4j_utils.neo_connector(creds=neo_creds)"
   ]
  },
  {
   "cell_type": "code",
   "execution_count": 219,
   "id": "b53c19d2",
   "metadata": {},
   "outputs": [],
   "source": [
    "uri = 'bolt://localhost:7687'"
   ]
  },
  {
   "cell_type": "code",
   "execution_count": 220,
   "id": "f96fc60b",
   "metadata": {},
   "outputs": [],
   "source": [
    "graph = Graph(uri, auth=(neo_creds['user'], neo_creds['password']))"
   ]
  },
  {
   "cell_type": "code",
   "execution_count": 265,
   "id": "e31bb6ae",
   "metadata": {},
   "outputs": [],
   "source": [
    "graph_query = \"\"\"match p=(n1)-[:SIMILAR_TO]-(d) \n",
    "where n1.name IN $array\n",
    "return p\"\"\""
   ]
  },
  {
   "cell_type": "code",
   "execution_count": 288,
   "id": "a6346329",
   "metadata": {},
   "outputs": [],
   "source": [
    "result = graph.run(graph_query, parameters={\"array\": company_names})"
   ]
  },
  {
   "cell_type": "code",
   "execution_count": 289,
   "id": "298fb3d7",
   "metadata": {},
   "outputs": [
    {
     "data": {
      "text/html": [
       "<table><tr><th>p</th></tr><tr><td style=\"text-align:left\">(Thoughtworks)&lt;-[:SIMILAR_TO {}]-(3 Tenets Optimization)</td></tr><tr><td style=\"text-align:left\">(Thoughtworks)&lt;-[:SIMILAR_TO {}]-(3IS Solutions Inc)</td></tr><tr><td style=\"text-align:left\">(Virtusa)&lt;-[:SIMILAR_TO {}]-(Auxenta)</td></tr></table>"
      ],
      "text/plain": [
       " p                                                        \n",
       "----------------------------------------------------------\n",
       " (Thoughtworks)<-[:SIMILAR_TO {}]-(3 Tenets Optimization) \n",
       " (Thoughtworks)<-[:SIMILAR_TO {}]-(3IS Solutions Inc)     \n",
       " (Virtusa)<-[:SIMILAR_TO {}]-(Auxenta)                    "
      ]
     },
     "execution_count": 289,
     "metadata": {},
     "output_type": "execute_result"
    }
   ],
   "source": [
    "result"
   ]
  },
  {
   "cell_type": "code",
   "execution_count": 290,
   "id": "37ce356b",
   "metadata": {},
   "outputs": [
    {
     "name": "stdout",
     "output_type": "stream",
     "text": [
      " p                                                    \r\n",
      "------------------------------------------------------\r\n",
      " (Thoughtworks)<-[:SIMILAR_TO {}]-(3IS Solutions Inc) \r\n",
      " (Virtusa)<-[:SIMILAR_TO {}]-(Auxenta)                \r\n",
      " (Booz Allen Hamilton)<-[:SIMILAR_TO {}]-(1901 Group) \r\n",
      "\n",
      " p                                                    \r\n",
      "------------------------------------------------------\r\n",
      " (Virtusa)<-[:SIMILAR_TO {}]-(Auxenta)                \r\n",
      " (Booz Allen Hamilton)<-[:SIMILAR_TO {}]-(1901 Group) \r\n",
      " (Google)<-[:SIMILAR_TO {}]-(1863 Ventures)           \r\n",
      "\n",
      " p                                                    \r\n",
      "------------------------------------------------------\r\n",
      " (Booz Allen Hamilton)<-[:SIMILAR_TO {}]-(1901 Group) \r\n",
      " (Google)<-[:SIMILAR_TO {}]-(1863 Ventures)           \r\n",
      " (Google)<-[:SIMILAR_TO {}]-(2mrw)                    \r\n",
      "\n",
      " p                                           \r\n",
      "---------------------------------------------\r\n",
      " (Google)<-[:SIMILAR_TO {}]-(1863 Ventures)  \r\n",
      " (Google)<-[:SIMILAR_TO {}]-(2mrw)           \r\n",
      " (Google)<-[:SIMILAR_TO {}]-(3 Little Birds) \r\n",
      "\n",
      " p                                                    \r\n",
      "------------------------------------------------------\r\n",
      " (Google)<-[:SIMILAR_TO {}]-(2mrw)                    \r\n",
      " (Google)<-[:SIMILAR_TO {}]-(3 Little Birds)          \r\n",
      " (Flexton Inc.)<-[:SIMILAR_TO {}]-(4 Consulting Inc.) \r\n",
      "\n",
      " p                                                         \r\n",
      "-----------------------------------------------------------\r\n",
      " (Google)<-[:SIMILAR_TO {}]-(3 Little Birds)               \r\n",
      " (Flexton Inc.)<-[:SIMILAR_TO {}]-(4 Consulting Inc.)      \r\n",
      " (The Intersect Group)<-[:SIMILAR_TO {}]-(6 Degrees Group) \r\n",
      "\n",
      " p                                                         \r\n",
      "-----------------------------------------------------------\r\n",
      " (Flexton Inc.)<-[:SIMILAR_TO {}]-(4 Consulting Inc.)      \r\n",
      " (The Intersect Group)<-[:SIMILAR_TO {}]-(6 Degrees Group) \r\n",
      " (Virtusa)<-[:SIMILAR_TO {}]-(1 Billion Tech)              \r\n",
      "\n",
      " p                                                         \r\n",
      "-----------------------------------------------------------\r\n",
      " (The Intersect Group)<-[:SIMILAR_TO {}]-(6 Degrees Group) \r\n",
      " (Virtusa)<-[:SIMILAR_TO {}]-(1 Billion Tech)              \r\n",
      " (Booz Allen Hamilton)<-[:SIMILAR_TO {}]-(23rd & 5th)      \r\n",
      "\n",
      " p                                                    \r\n",
      "------------------------------------------------------\r\n",
      " (Virtusa)<-[:SIMILAR_TO {}]-(1 Billion Tech)         \r\n",
      " (Booz Allen Hamilton)<-[:SIMILAR_TO {}]-(23rd & 5th) \r\n",
      " (Google)<-[:SIMILAR_TO {}]-(21Squared, Inc.)         \r\n",
      "\n",
      " p                                                    \r\n",
      "------------------------------------------------------\r\n",
      " (Booz Allen Hamilton)<-[:SIMILAR_TO {}]-(23rd & 5th) \r\n",
      " (Google)<-[:SIMILAR_TO {}]-(21Squared, Inc.)         \r\n",
      " (Google)<-[:SIMILAR_TO {}]-(1stcapitalsource)        \r\n",
      "\n",
      " p                                             \r\n",
      "-----------------------------------------------\r\n",
      " (Google)<-[:SIMILAR_TO {}]-(21Squared, Inc.)  \r\n",
      " (Google)<-[:SIMILAR_TO {}]-(1stcapitalsource) \r\n",
      " (Google)<-[:SIMILAR_TO {}]-(410 Labs)         \r\n",
      "\n",
      " p                                             \r\n",
      "-----------------------------------------------\r\n",
      " (Google)<-[:SIMILAR_TO {}]-(1stcapitalsource) \r\n",
      " (Google)<-[:SIMILAR_TO {}]-(410 Labs)         \r\n",
      "\n",
      " p                                     \r\n",
      "---------------------------------------\r\n",
      " (Google)<-[:SIMILAR_TO {}]-(410 Labs) \r\n",
      "\n",
      "(No data)\n"
     ]
    }
   ],
   "source": [
    "G = nx.Graph()\n",
    "\n",
    "# Extract nodes and relationships from the result\n",
    "for record in result:\n",
    "    print(result)\n",
    "    for rel in record[\"p\"].relationships:\n",
    "        G.add_edge(rel.start_node[\"name\"], rel.end_node[\"name\"])"
   ]
  },
  {
   "cell_type": "code",
   "execution_count": 304,
   "id": "b8cfcea3",
   "metadata": {},
   "outputs": [
    {
     "data": {
      "image/png": "[encoded data removed]",
      "text/plain": [
       "<Figure size 1000x1000 with 1 Axes>"
      ]
     },
     "metadata": {},
     "output_type": "display_data"
    }
   ],
   "source": [
    "pos = nx.spring_layout(G)  # You can change the layout algorithm as needed\n",
    "\n",
    "plt.figure(figsize=(10, 10))\n",
    "nx.draw(G, pos, with_labels=True, font_weight='bold', node_color='skyblue', node_size=1000, font_size=5)\n",
    "plt.title(\"Neo4j Graph Visualization\")\n",
    "plt.show()"
   ]
  }
 ],
 "metadata": {
  "kernelspec": {
   "display_name": "Python 3 (ipykernel)",
   "language": "python",
   "name": "python3"
  },
  "language_info": {
   "codemirror_mode": {
    "name": "ipython",
    "version": 3
   },
   "file_extension": ".py",
   "mimetype": "text/x-python",
   "name": "python",
   "nbconvert_exporter": "python",
   "pygments_lexer": "ipython3",
   "version": "3.9.7"
  }
 },
 "nbformat": 4,
 "nbformat_minor": 5
}
