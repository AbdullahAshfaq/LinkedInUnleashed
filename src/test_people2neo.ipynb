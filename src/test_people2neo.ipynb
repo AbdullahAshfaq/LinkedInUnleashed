{
 "cells": [
  {
   "cell_type": "markdown",
   "metadata": {},
   "source": [
    "## Get people from mongo and store in neo4j"
   ]
  },
  {
   "cell_type": "code",
   "execution_count": 1,
   "metadata": {},
   "outputs": [],
   "source": [
    "import pandas as pd\n",
    "import json\n",
    "from utils import mongo_utils"
   ]
  },
  {
   "cell_type": "code",
   "execution_count": 2,
   "metadata": {},
   "outputs": [],
   "source": [
    "\n",
    "mongo_creds = {\n",
    "    'user': 'root',\n",
    "    'password': 'example',\n",
    "    'db': 'LUapp',\n",
    "    'host':'localhost',\n",
    "    'port': '27017'\n",
    "}\n",
    "mongoCon = mongo_utils.Mongo_Connector(creds=mongo_creds)\n",
    "col = 'people'"
   ]
  },
  {
   "cell_type": "code",
   "execution_count": 3,
   "metadata": {},
   "outputs": [],
   "source": [
    "data_dir = '../data/for_neo4j/'"
   ]
  },
  {
   "cell_type": "code",
   "execution_count": 2,
   "metadata": {},
   "outputs": [],
   "source": [
    "query = [\n",
    "    {\"$addFields\": {\"size_exp\": {\"$size\": \"$experiences\"}}},\n",
    "    {\"$match\": {\"size_exp\": {\"$gt\": 0}}},\n",
    "    {\"$project\": {\"public_identifier\": 1, \"full_name\":1, \"experiences\": 1, \"_id\":0}}\n",
    "]"
   ]
  },
  {
   "cell_type": "code",
   "execution_count": 8,
   "metadata": {},
   "outputs": [
    {
     "name": "stdout",
     "output_type": "stream",
     "text": [
      "8939 loaded ... "
     ]
    }
   ],
   "source": [
    "result_lst = mongoCon.Mongo2json(collection_name=col, query=query)\n",
    "print(f\"{len(result_lst)} loaded ...\", end=' ')\n",
    "with open(data_dir+'people_experiences.json','w') as f:\n",
    "    json.dump(result_lst, f)"
   ]
  },
  {
   "cell_type": "markdown",
   "metadata": {},
   "source": [
    "### Transfer Education"
   ]
  },
  {
   "cell_type": "code",
   "execution_count": 9,
   "metadata": {},
   "outputs": [],
   "source": [
    "query = [\n",
    "    {\"$addFields\": {\"size_edu\": {\"$size\": \"$education\"}}},\n",
    "    {\"$match\": {\"size_edu\": {\"$gt\": 0}}},\n",
    "    {\"$project\": {\"public_identifier\": 1, \"full_name\":1, \"education\": 1, \"_id\":0}}\n",
    "]"
   ]
  },
  {
   "cell_type": "code",
   "execution_count": 10,
   "metadata": {},
   "outputs": [
    {
     "name": "stdout",
     "output_type": "stream",
     "text": [
      "8619 loaded ... "
     ]
    }
   ],
   "source": [
    "result_lst = mongoCon.Mongo2json(collection_name=col, query=query)\n",
    "print(f\"{len(result_lst)} loaded ...\", end=' ')\n",
    "with open(data_dir+'people_education.json','w') as f:\n",
    "    json.dump(result_lst, f)"
   ]
  },
  {
   "cell_type": "markdown",
   "metadata": {},
   "source": [
    "### Transfer Groups"
   ]
  },
  {
   "cell_type": "code",
   "execution_count": 4,
   "metadata": {},
   "outputs": [],
   "source": [
    "query = [\n",
    "    {'$addFields': {'size_gp': {'$size': \"$groups\"}}},\n",
    "    {'$match': {'size_gp': {'$gt': 0}}},\n",
    "    {'$project': {'public_identifier': 1, 'full_name':1, 'groups': 1, '_id':0}}\n",
    "]"
   ]
  },
  {
   "cell_type": "code",
   "execution_count": 5,
   "metadata": {},
   "outputs": [
    {
     "name": "stdout",
     "output_type": "stream",
     "text": [
      "5015 loaded ... "
     ]
    }
   ],
   "source": [
    "result_lst = mongoCon.Mongo2json(collection_name=col, query=query)\n",
    "print(f\"{len(result_lst)} loaded ...\", end=' ')\n",
    "with open(data_dir+'people_groups.json','w') as f:\n",
    "    json.dump(result_lst, f)"
   ]
  },
  {
   "cell_type": "code",
   "execution_count": null,
   "metadata": {},
   "outputs": [],
   "source": []
  }
 ],
 "metadata": {
  "kernelspec": {
   "display_name": "Python 3",
   "language": "python",
   "name": "python3"
  },
  "language_info": {
   "codemirror_mode": {
    "name": "ipython",
    "version": 3
   },
   "file_extension": ".py",
   "mimetype": "text/x-python",
   "name": "python",
   "nbconvert_exporter": "python",
   "pygments_lexer": "ipython3",
   "version": "3.11.5"
  }
 },
 "nbformat": 4,
 "nbformat_minor": 2
}
