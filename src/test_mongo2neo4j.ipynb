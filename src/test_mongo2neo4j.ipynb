{
 "cells": [
  {
   "cell_type": "markdown",
   "metadata": {},
   "source": [
    "## Get json data from Mongo to feed into Neo4j\n"
   ]
  },
  {
   "cell_type": "markdown",
   "metadata": {},
   "source": []
  },
  {
   "cell_type": "code",
   "execution_count": 14,
   "metadata": {},
   "outputs": [],
   "source": [
    "import pymongo\n",
    "from utils import mongo_utils\n",
    "import json\n",
    "\n",
    "creds = {\n",
    "    'user': 'root',\n",
    "    'password': 'example',\n",
    "    'db': 'LUapp',\n",
    "    'host':'localhost',\n",
    "    'port': '27017'\n",
    "}"
   ]
  },
  {
   "cell_type": "code",
   "execution_count": 2,
   "metadata": {},
   "outputs": [],
   "source": [
    "mongoCon = mongo_utils.Mongo_Connector(creds=creds)\n"
   ]
  },
  {
   "cell_type": "code",
   "execution_count": 3,
   "metadata": {},
   "outputs": [],
   "source": [
    "mydb = mongoCon.client[creds['db']]\n",
    "mycol = mydb[\"companies\"]\n"
   ]
  },
  {
   "cell_type": "code",
   "execution_count": 17,
   "metadata": {},
   "outputs": [],
   "source": [
    "myquery =  [\n",
    "    {\"$addFields\": {\"size_sim_comps\": {\"$size\": \"$similar_companies\"}}},\n",
    "    {\"$match\": {\"size_sim_comps\": {\"$gt\": 0}}},\n",
    "    {\"$project\": {\"name\": 1, \"similar_companies\": 1, \"_id\": 0}}\n",
    "]"
   ]
  },
  {
   "cell_type": "code",
   "execution_count": 18,
   "metadata": {},
   "outputs": [],
   "source": [
    "mydoc = mycol.aggregate(myquery)"
   ]
  },
  {
   "cell_type": "code",
   "execution_count": 19,
   "metadata": {},
   "outputs": [],
   "source": [
    "similar_companies = []\n",
    "for x in mydoc:\n",
    "  similar_companies.append(x)\n"
   ]
  },
  {
   "cell_type": "code",
   "execution_count": 20,
   "metadata": {},
   "outputs": [
    {
     "data": {
      "text/plain": [
       "2331"
      ]
     },
     "execution_count": 20,
     "metadata": {},
     "output_type": "execute_result"
    }
   ],
   "source": [
    "len(similar_companies)"
   ]
  },
  {
   "cell_type": "code",
   "execution_count": 21,
   "metadata": {},
   "outputs": [
    {
     "data": {
      "text/plain": [
       "{'name': \"'47\",\n",
       " 'similar_companies': [{'name': 'New Era Cap',\n",
       "   'link': 'https://www.linkedin.com/company/new-era-cap',\n",
       "   'industry': 'Apparel & Fashion',\n",
       "   'location': 'Buffalo, New York'},\n",
       "  {'name': 'Life is Good',\n",
       "   'link': 'https://www.linkedin.com/company/life-is-good',\n",
       "   'industry': 'Apparel & Fashion',\n",
       "   'location': 'Boston, MA'},\n",
       "  {'name': 'Mitchell & Ness Nostalgia Co.',\n",
       "   'link': 'https://www.linkedin.com/company/mitchell-&-ness',\n",
       "   'industry': 'Apparel & Fashion',\n",
       "   'location': None},\n",
       "  {'name': 'Fanatics, Inc.',\n",
       "   'link': 'https://www.linkedin.com/company/fanatics-inc-',\n",
       "   'industry': 'Internet',\n",
       "   'location': 'Jacksonville, FL., .'},\n",
       "  {'name': 'New Balance',\n",
       "   'link': 'https://www.linkedin.com/company/new-balance',\n",
       "   'industry': 'Sporting Goods',\n",
       "   'location': 'Brighton, MA'},\n",
       "  {'name': 'Nike',\n",
       "   'link': 'https://www.linkedin.com/company/nike',\n",
       "   'industry': 'Sporting Goods',\n",
       "   'location': 'Beaverton, OR'},\n",
       "  {'name': 'Converse',\n",
       "   'link': 'https://www.linkedin.com/company/converse',\n",
       "   'industry': 'Apparel & Fashion',\n",
       "   'location': 'Boston, MA'},\n",
       "  {'name': 'PUMA Group',\n",
       "   'link': 'https://de.linkedin.com/company/puma',\n",
       "   'industry': 'Sporting Goods',\n",
       "   'location': None},\n",
       "  {'name': 'adidas',\n",
       "   'link': 'https://de.linkedin.com/company/adidas',\n",
       "   'industry': 'Sporting Goods',\n",
       "   'location': 'Herzogenaurach, Bavaria'},\n",
       "  {'name': 'Reebok',\n",
       "   'link': 'https://www.linkedin.com/company/reebok',\n",
       "   'industry': 'Consumer Goods',\n",
       "   'location': 'Boston, MA'}]}"
      ]
     },
     "execution_count": 21,
     "metadata": {},
     "output_type": "execute_result"
    }
   ],
   "source": [
    "similar_companies[0]"
   ]
  },
  {
   "cell_type": "code",
   "execution_count": 22,
   "metadata": {},
   "outputs": [],
   "source": [
    "with open('../data/similar_companies.json','w') as f:\n",
    "    json.dump(similar_companies, f)"
   ]
  },
  {
   "cell_type": "markdown",
   "metadata": {},
   "source": [
    "## Locations json"
   ]
  },
  {
   "cell_type": "code",
   "execution_count": 28,
   "metadata": {},
   "outputs": [],
   "source": [
    "myquery =  [\n",
    "    {\"$addFields\": {\"size_loc\": {\"$size\": \"$locations\"}}},\n",
    "    {\"$match\": {\"size_loc\": {\"$gt\": 0}}},\n",
    "    {\"$project\": {\"name\": 1, \"locations\": 1, \"_id\": 0}}\n",
    "]"
   ]
  },
  {
   "cell_type": "code",
   "execution_count": 29,
   "metadata": {},
   "outputs": [],
   "source": [
    "mydb = mongoCon.client[creds['db']]\n",
    "mycol = mydb[\"companies\"]\n",
    "mydoc = mycol.aggregate(myquery)"
   ]
  },
  {
   "cell_type": "code",
   "execution_count": 30,
   "metadata": {},
   "outputs": [
    {
     "data": {
      "text/plain": [
       "10000"
      ]
     },
     "execution_count": 30,
     "metadata": {},
     "output_type": "execute_result"
    }
   ],
   "source": [
    "company_locations = []\n",
    "for x in mydoc:\n",
    "  company_locations.append(x)\n",
    "len(company_locations)"
   ]
  },
  {
   "cell_type": "code",
   "execution_count": 31,
   "metadata": {},
   "outputs": [],
   "source": [
    "with open('../data/company_locations.json','w') as f:\n",
    "    json.dump(company_locations, f)"
   ]
  },
  {
   "cell_type": "markdown",
   "metadata": {},
   "source": [
    "## Company Specialities"
   ]
  },
  {
   "cell_type": "code",
   "execution_count": 32,
   "metadata": {},
   "outputs": [],
   "source": [
    "myquery = [\n",
    "    {\"$addFields\": {\"size_spec\": {\"$size\": \"$specialities\"}}},\n",
    "    {\"$match\": {\"size_spec\": {\"$gt\": 0}}},\n",
    "    {\"$project\": {\"name\": 1, \"specialities\": 1, \"_id\": 0}}\n",
    "]"
   ]
  },
  {
   "cell_type": "code",
   "execution_count": 33,
   "metadata": {},
   "outputs": [],
   "source": [
    "mydb = mongoCon.client[creds['db']]\n",
    "mycol = mydb[\"companies\"]\n",
    "mydoc = mycol.aggregate(myquery)"
   ]
  },
  {
   "cell_type": "code",
   "execution_count": 34,
   "metadata": {},
   "outputs": [
    {
     "data": {
      "text/plain": [
       "6792"
      ]
     },
     "execution_count": 34,
     "metadata": {},
     "output_type": "execute_result"
    }
   ],
   "source": [
    "company_spec = []\n",
    "for x in mydoc:\n",
    "  company_spec.append(x)\n",
    "len(company_spec)"
   ]
  },
  {
   "cell_type": "code",
   "execution_count": 35,
   "metadata": {},
   "outputs": [],
   "source": [
    "with open('../data/company_spec.json','w') as f:\n",
    "    json.dump(company_spec, f)"
   ]
  },
  {
   "cell_type": "code",
   "execution_count": null,
   "metadata": {},
   "outputs": [],
   "source": []
  }
 ],
 "metadata": {
  "kernelspec": {
   "display_name": "Python 3",
   "language": "python",
   "name": "python3"
  },
  "language_info": {
   "codemirror_mode": {
    "name": "ipython",
    "version": 3
   },
   "file_extension": ".py",
   "mimetype": "text/x-python",
   "name": "python",
   "nbconvert_exporter": "python",
   "pygments_lexer": "ipython3",
   "version": "3.11.5"
  }
 },
 "nbformat": 4,
 "nbformat_minor": 2
}
