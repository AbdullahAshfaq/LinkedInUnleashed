{
 "cells": [
  {
   "cell_type": "code",
   "execution_count": 1,
   "metadata": {},
   "outputs": [],
   "source": [
    "import pandas as pd\n",
    "import os\n",
    "import json\n",
    "\n",
    "pd.set_option('display.max_columns', None)"
   ]
  },
  {
   "cell_type": "code",
   "execution_count": 2,
   "metadata": {},
   "outputs": [
    {
     "data": {
      "text/html": [
       "<div>\n",
       "<style scoped>\n",
       "    .dataframe tbody tr th:only-of-type {\n",
       "        vertical-align: middle;\n",
       "    }\n",
       "\n",
       "    .dataframe tbody tr th {\n",
       "        vertical-align: top;\n",
       "    }\n",
       "\n",
       "    .dataframe thead th {\n",
       "        text-align: right;\n",
       "    }\n",
       "</style>\n",
       "<table border=\"1\" class=\"dataframe\">\n",
       "  <thead>\n",
       "    <tr style=\"text-align: right;\">\n",
       "      <th></th>\n",
       "      <th>Unnamed: 0</th>\n",
       "      <th>linkedin_internal_id</th>\n",
       "      <th>description</th>\n",
       "      <th>website</th>\n",
       "      <th>industry</th>\n",
       "      <th>company_size</th>\n",
       "      <th>company_size_on_linkedin</th>\n",
       "      <th>hq</th>\n",
       "      <th>company_type</th>\n",
       "      <th>founded_year</th>\n",
       "      <th>specialities</th>\n",
       "      <th>locations</th>\n",
       "      <th>name</th>\n",
       "      <th>tagline</th>\n",
       "      <th>universal_name_id</th>\n",
       "      <th>profile_pic_url</th>\n",
       "      <th>background_cover_image_url</th>\n",
       "      <th>search_id</th>\n",
       "      <th>similar_companies</th>\n",
       "      <th>updates</th>\n",
       "      <th>follower_count</th>\n",
       "    </tr>\n",
       "  </thead>\n",
       "  <tbody>\n",
       "    <tr>\n",
       "      <th>0</th>\n",
       "      <td>0</td>\n",
       "      <td>1415096.0</td>\n",
       "      <td>’47 is a sports lifestyle brand founded in Bos...</td>\n",
       "      <td>http://www.47brand.com/</td>\n",
       "      <td>Apparel &amp; Fashion</td>\n",
       "      <td>[201, 500]</td>\n",
       "      <td>272.0</td>\n",
       "      <td>{'country': 'US', 'city': 'Westwood', 'postal_...</td>\n",
       "      <td>PRIVATELY_HELD</td>\n",
       "      <td>1947.0</td>\n",
       "      <td>['Sports Licensing', 'Headwear', 'Apparel', 'L...</td>\n",
       "      <td>[{'country': 'US', 'city': 'Westwood', 'postal...</td>\n",
       "      <td>'47</td>\n",
       "      <td>Sports lifestyle brand based out of Boston, MA...</td>\n",
       "      <td>%2747-brand</td>\n",
       "      <td>https://s3.us-west-000.backblazeb2.com/proxycu...</td>\n",
       "      <td>https://s3.us-west-000.backblazeb2.com/proxycu...</td>\n",
       "      <td>1415096</td>\n",
       "      <td>[{'name': 'New Era Cap', 'link': 'https://www....</td>\n",
       "      <td>[]</td>\n",
       "      <td>8865.0</td>\n",
       "    </tr>\n",
       "    <tr>\n",
       "      <th>1</th>\n",
       "      <td>1</td>\n",
       "      <td>6579667.0</td>\n",
       "      <td>à la Sparke is an online 'a la carte' event st...</td>\n",
       "      <td>NaN</td>\n",
       "      <td>Design</td>\n",
       "      <td>[1, 10]</td>\n",
       "      <td>NaN</td>\n",
       "      <td>{'country': 'US', 'city': 'Atlanta', 'postal_c...</td>\n",
       "      <td>PUBLIC_COMPANY</td>\n",
       "      <td>2015.0</td>\n",
       "      <td>['Event Styling Wardrobe Styling']</td>\n",
       "      <td>[{'country': 'US', 'city': 'Atlanta', 'postal_...</td>\n",
       "      <td>à la Sparke</td>\n",
       "      <td>NaN</td>\n",
       "      <td>%C3%A0-la-sparke</td>\n",
       "      <td>NaN</td>\n",
       "      <td>NaN</td>\n",
       "      <td>6579667</td>\n",
       "      <td>[]</td>\n",
       "      <td>[]</td>\n",
       "      <td>2.0</td>\n",
       "    </tr>\n",
       "  </tbody>\n",
       "</table>\n",
       "</div>"
      ],
      "text/plain": [
       "   Unnamed: 0  linkedin_internal_id  \\\n",
       "0           0             1415096.0   \n",
       "1           1             6579667.0   \n",
       "\n",
       "                                         description                  website  \\\n",
       "0  ’47 is a sports lifestyle brand founded in Bos...  http://www.47brand.com/   \n",
       "1  à la Sparke is an online 'a la carte' event st...                      NaN   \n",
       "\n",
       "            industry company_size  company_size_on_linkedin  \\\n",
       "0  Apparel & Fashion   [201, 500]                     272.0   \n",
       "1             Design      [1, 10]                       NaN   \n",
       "\n",
       "                                                  hq    company_type  \\\n",
       "0  {'country': 'US', 'city': 'Westwood', 'postal_...  PRIVATELY_HELD   \n",
       "1  {'country': 'US', 'city': 'Atlanta', 'postal_c...  PUBLIC_COMPANY   \n",
       "\n",
       "   founded_year                                       specialities  \\\n",
       "0        1947.0  ['Sports Licensing', 'Headwear', 'Apparel', 'L...   \n",
       "1        2015.0                 ['Event Styling Wardrobe Styling']   \n",
       "\n",
       "                                           locations         name  \\\n",
       "0  [{'country': 'US', 'city': 'Westwood', 'postal...          '47   \n",
       "1  [{'country': 'US', 'city': 'Atlanta', 'postal_...  à la Sparke   \n",
       "\n",
       "                                             tagline universal_name_id  \\\n",
       "0  Sports lifestyle brand based out of Boston, MA...       %2747-brand   \n",
       "1                                                NaN  %C3%A0-la-sparke   \n",
       "\n",
       "                                     profile_pic_url  \\\n",
       "0  https://s3.us-west-000.backblazeb2.com/proxycu...   \n",
       "1                                                NaN   \n",
       "\n",
       "                          background_cover_image_url search_id  \\\n",
       "0  https://s3.us-west-000.backblazeb2.com/proxycu...   1415096   \n",
       "1                                                NaN   6579667   \n",
       "\n",
       "                                   similar_companies updates  follower_count  \n",
       "0  [{'name': 'New Era Cap', 'link': 'https://www....      []          8865.0  \n",
       "1                                                 []      []             2.0  "
      ]
     },
     "execution_count": 2,
     "metadata": {},
     "output_type": "execute_result"
    }
   ],
   "source": [
    "# Testing saved csv\n",
    "\n",
    "df = pd.read_csv('../../data/companies/us_companies_proxycurl/10000_united_states_companies_profiles.csv')\n",
    "df[:2]"
   ]
  },
  {
   "cell_type": "code",
   "execution_count": 4,
   "metadata": {},
   "outputs": [
    {
     "name": "stdout",
     "output_type": "stream",
     "text": [
      "Couldn't convert Unnamed: 0: malformed node or string: 0\n",
      "Couldn't convert linkedin_internal_id: malformed node or string: 1415096.0\n",
      "Couldn't convert description: invalid character '’' (U+2019) (<unknown>, line 1)\n",
      "Couldn't convert website: invalid decimal literal (<unknown>, line 1)\n",
      "Couldn't convert industry: malformed node or string on line 1: <ast.BinOp object at 0x000001A669533610>\n",
      "Couldn't convert company_size: malformed node or string: [201, 500]\n",
      "Couldn't convert company_size_on_linkedin: malformed node or string: 272.0\n",
      "Couldn't convert hq: malformed node or string: {'country': 'US', 'city': 'Westwood', 'postal_code': '02090', 'line_1': '15 SW Park', 'is_hq': True, 'state': 'Massachusetts'}\n",
      "Couldn't convert company_type: malformed node or string on line 1: <ast.Name object at 0x000001A669532E60>\n",
      "Couldn't convert founded_year: malformed node or string: 1947.0\n",
      "Couldn't convert specialities: malformed node or string: ['Sports Licensing', 'Headwear', 'Apparel', 'Lifestyle', 'Retail', 'Sport']\n",
      "Couldn't convert locations: malformed node or string: [{'country': 'US', 'city': 'Westwood', 'postal_code': '02090', 'line_1': '15 SW Park', 'is_hq': True, 'state': 'Massachusetts'}]\n",
      "Couldn't convert name: unterminated string literal (detected at line 1) (<unknown>, line 1)\n",
      "Couldn't convert tagline: invalid syntax (<unknown>, line 1)\n",
      "Couldn't convert universal_name_id: invalid syntax (<unknown>, line 1)\n",
      "Couldn't convert profile_pic_url: invalid decimal literal (<unknown>, line 1)\n",
      "Couldn't convert background_cover_image_url: invalid decimal literal (<unknown>, line 1)\n",
      "Couldn't convert search_id: malformed node or string: nan\n",
      "Couldn't convert similar_companies: malformed node or string: [{'name': 'New Era Cap', 'link': 'https://www.linkedin.com/company/new-era-cap', 'industry': 'Apparel & Fashion', 'location': 'Buffalo, New York'}, {'name': 'Life is Good', 'link': 'https://www.linkedin.com/company/life-is-good', 'industry': 'Apparel & Fashion', 'location': 'Boston, MA'}, {'name': 'Mitchell & Ness Nostalgia Co.', 'link': 'https://www.linkedin.com/company/mitchell-&-ness', 'industry': 'Apparel & Fashion', 'location': None}, {'name': 'Fanatics, Inc.', 'link': 'https://www.linkedin.com/company/fanatics-inc-', 'industry': 'Internet', 'location': 'Jacksonville, FL., .'}, {'name': 'New Balance', 'link': 'https://www.linkedin.com/company/new-balance', 'industry': 'Sporting Goods', 'location': 'Brighton, MA'}, {'name': 'Nike', 'link': 'https://www.linkedin.com/company/nike', 'industry': 'Sporting Goods', 'location': 'Beaverton, OR'}, {'name': 'Converse', 'link': 'https://www.linkedin.com/company/converse', 'industry': 'Apparel & Fashion', 'location': 'Boston, MA'}, {'name': 'PUMA Group', 'link': 'https://de.linkedin.com/company/puma', 'industry': 'Sporting Goods', 'location': None}, {'name': 'adidas', 'link': 'https://de.linkedin.com/company/adidas', 'industry': 'Sporting Goods', 'location': 'Herzogenaurach, Bavaria'}, {'name': 'Reebok', 'link': 'https://www.linkedin.com/company/reebok', 'industry': 'Consumer Goods', 'location': 'Boston, MA'}]\n",
      "Couldn't convert updates: malformed node or string: []\n",
      "Couldn't convert follower_count: malformed node or string: 8865.0\n"
     ]
    }
   ],
   "source": [
    "# temp['similar_comp_name'] = \n",
    "from utils import pandas_utils\n",
    "\n",
    "df = pandas_utils.cols2json(df)\n",
    "\n"
   ]
  },
  {
   "cell_type": "markdown",
   "metadata": {},
   "source": [
    "# Similar To"
   ]
  },
  {
   "cell_type": "code",
   "execution_count": 6,
   "metadata": {},
   "outputs": [],
   "source": [
    "\n",
    "# df['similar_companies'][0]"
   ]
  },
  {
   "cell_type": "code",
   "execution_count": 19,
   "metadata": {},
   "outputs": [
    {
     "name": "stdout",
     "output_type": "stream",
     "text": [
      "['New Era Cap', 'Life is Good', 'Mitchell & Ness Nostalgia Co.', 'Fanatics, Inc.', 'New Balance', 'Nike', 'Converse', 'PUMA Group', 'adidas', 'Reebok']\n",
      "New Era Cap;Life is Good;Mitchell & Ness Nostalgia Co.;Fanatics, Inc.;New Balance;Nike;Converse;PUMA Group;adidas;Reebok\n"
     ]
    }
   ],
   "source": [
    "df['similar_comp_neo4j'] = df['similar_companies'].apply(lambda x: [y.get('name','') for y in x])\n",
    "print(df['similar_comp_neo4j'][0])\n",
    "df['similar_comp_neo4j'] = df['similar_comp_neo4j'].apply(lambda x: ';'.join(x))\n",
    "print(df['similar_comp_neo4j'][0])"
   ]
  },
  {
   "cell_type": "code",
   "execution_count": 18,
   "metadata": {},
   "outputs": [
    {
     "data": {
      "text/html": [
       "<div>\n",
       "<style scoped>\n",
       "    .dataframe tbody tr th:only-of-type {\n",
       "        vertical-align: middle;\n",
       "    }\n",
       "\n",
       "    .dataframe tbody tr th {\n",
       "        vertical-align: top;\n",
       "    }\n",
       "\n",
       "    .dataframe thead th {\n",
       "        text-align: right;\n",
       "    }\n",
       "</style>\n",
       "<table border=\"1\" class=\"dataframe\">\n",
       "  <thead>\n",
       "    <tr style=\"text-align: right;\">\n",
       "      <th></th>\n",
       "      <th>Unnamed: 0</th>\n",
       "      <th>linkedin_internal_id</th>\n",
       "      <th>description</th>\n",
       "      <th>website</th>\n",
       "      <th>industry</th>\n",
       "      <th>company_size</th>\n",
       "      <th>company_size_on_linkedin</th>\n",
       "      <th>hq</th>\n",
       "      <th>company_type</th>\n",
       "      <th>founded_year</th>\n",
       "      <th>specialities</th>\n",
       "      <th>locations</th>\n",
       "      <th>name</th>\n",
       "      <th>tagline</th>\n",
       "      <th>universal_name_id</th>\n",
       "      <th>profile_pic_url</th>\n",
       "      <th>background_cover_image_url</th>\n",
       "      <th>search_id</th>\n",
       "      <th>similar_companies</th>\n",
       "      <th>updates</th>\n",
       "      <th>follower_count</th>\n",
       "      <th>similar_comp_neo4j</th>\n",
       "    </tr>\n",
       "  </thead>\n",
       "  <tbody>\n",
       "  </tbody>\n",
       "</table>\n",
       "</div>"
      ],
      "text/plain": [
       "Empty DataFrame\n",
       "Columns: [Unnamed: 0, linkedin_internal_id, description, website, industry, company_size, company_size_on_linkedin, hq, company_type, founded_year, specialities, locations, name, tagline, universal_name_id, profile_pic_url, background_cover_image_url, search_id, similar_companies, updates, follower_count, similar_comp_neo4j]\n",
       "Index: []"
      ]
     },
     "execution_count": 18,
     "metadata": {},
     "output_type": "execute_result"
    }
   ],
   "source": [
    "# Note: couldn't find nike, adidas in csv. Maybe they can be in 17M Company dataset\n",
    "df[df['name'].str.contains('adidas').fillna(False)]"
   ]
  },
  {
   "cell_type": "code",
   "execution_count": 15,
   "metadata": {},
   "outputs": [
    {
     "data": {
      "text/html": [
       "<div>\n",
       "<style scoped>\n",
       "    .dataframe tbody tr th:only-of-type {\n",
       "        vertical-align: middle;\n",
       "    }\n",
       "\n",
       "    .dataframe tbody tr th {\n",
       "        vertical-align: top;\n",
       "    }\n",
       "\n",
       "    .dataframe thead th {\n",
       "        text-align: right;\n",
       "    }\n",
       "</style>\n",
       "<table border=\"1\" class=\"dataframe\">\n",
       "  <thead>\n",
       "    <tr style=\"text-align: right;\">\n",
       "      <th></th>\n",
       "      <th>Unnamed: 0</th>\n",
       "      <th>linkedin_internal_id</th>\n",
       "      <th>description</th>\n",
       "      <th>website</th>\n",
       "      <th>industry</th>\n",
       "      <th>company_size</th>\n",
       "      <th>company_size_on_linkedin</th>\n",
       "      <th>hq</th>\n",
       "      <th>company_type</th>\n",
       "      <th>founded_year</th>\n",
       "      <th>specialities</th>\n",
       "      <th>locations</th>\n",
       "      <th>name</th>\n",
       "      <th>tagline</th>\n",
       "      <th>universal_name_id</th>\n",
       "      <th>profile_pic_url</th>\n",
       "      <th>background_cover_image_url</th>\n",
       "      <th>search_id</th>\n",
       "      <th>similar_companies</th>\n",
       "      <th>updates</th>\n",
       "      <th>follower_count</th>\n",
       "    </tr>\n",
       "  </thead>\n",
       "  <tbody>\n",
       "  </tbody>\n",
       "</table>\n",
       "</div>"
      ],
      "text/plain": [
       "Empty DataFrame\n",
       "Columns: [Unnamed: 0, linkedin_internal_id, description, website, industry, company_size, company_size_on_linkedin, hq, company_type, founded_year, specialities, locations, name, tagline, universal_name_id, profile_pic_url, background_cover_image_url, search_id, similar_companies, updates, follower_count]\n",
       "Index: []"
      ]
     },
     "execution_count": 15,
     "metadata": {},
     "output_type": "execute_result"
    }
   ],
   "source": [
    "df[df['name'].str.contains('Reebok').fillna(False)]"
   ]
  },
  {
   "cell_type": "code",
   "execution_count": 23,
   "metadata": {},
   "outputs": [],
   "source": [
    "df.to_csv('../../data/companies/us_companies_proxycurl/company_similar_to.csv')"
   ]
  },
  {
   "cell_type": "markdown",
   "metadata": {},
   "source": [
    "# Located in "
   ]
  },
  {
   "cell_type": "markdown",
   "metadata": {},
   "source": [
    "| loc_country | loc_state | loc_city | "
   ]
  },
  {
   "cell_type": "code",
   "execution_count": 21,
   "metadata": {},
   "outputs": [
    {
     "data": {
      "text/plain": [
       "[{'country': 'US',\n",
       "  'city': 'Westwood',\n",
       "  'postal_code': '02090',\n",
       "  'line_1': '15 SW Park',\n",
       "  'is_hq': True,\n",
       "  'state': 'Massachusetts'}]"
      ]
     },
     "execution_count": 21,
     "metadata": {},
     "output_type": "execute_result"
    }
   ],
   "source": [
    "df['locations'][0]"
   ]
  },
  {
   "cell_type": "code",
   "execution_count": null,
   "metadata": {},
   "outputs": [],
   "source": [
    "df['locations'].apply(lambda x: [y.get('name','') for y in x])"
   ]
  }
 ],
 "metadata": {
  "kernelspec": {
   "display_name": "Python 3",
   "language": "python",
   "name": "python3"
  },
  "language_info": {
   "codemirror_mode": {
    "name": "ipython",
    "version": 3
   },
   "file_extension": ".py",
   "mimetype": "text/x-python",
   "name": "python",
   "nbconvert_exporter": "python",
   "pygments_lexer": "ipython3",
   "version": "3.11.5"
  }
 },
 "nbformat": 4,
 "nbformat_minor": 2
}
