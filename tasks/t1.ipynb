{
 "cells": [
  {
   "cell_type": "markdown",
   "metadata": {},
   "source": [
    "# Task 1:\n",
    "\n",
    "You want to find a person who is well connected to multiple companies in a domain e.g. \"Software Development\". So that you can connect with them for mentorship and utilize their network for more opportunities in that domain"
   ]
  },
  {
   "cell_type": "markdown",
   "metadata": {},
   "source": [
    "Some examples of domains: <br>\n",
    "1. Software Development\n",
    "2. Computer Software\n",
    "3. Internet\n",
    "4. Defense\n",
    "5. Food"
   ]
  },
  {
   "cell_type": "code",
   "execution_count": 1,
   "metadata": {},
   "outputs": [],
   "source": [
    "import sys\n",
    "import os\n",
    "\n",
    "src_path = '..' # This should be path to parent directory of 'src/utils' \n",
    "sys.path.append(src_path)"
   ]
  },
  {
   "cell_type": "code",
   "execution_count": 2,
   "metadata": {},
   "outputs": [],
   "source": [
    "from creds import *\n",
    "from src.utils import neo4j_utils, mongo_utils, sql_utils"
   ]
  },
  {
   "cell_type": "code",
   "execution_count": 3,
   "metadata": {},
   "outputs": [
    {
     "name": "stdout",
     "output_type": "stream",
     "text": [
      "Running query: \n",
      " \n",
      "match (c:Company)-[:WORKS_IN]->(i:Industry)\n",
      "where i.name =~ '(?i).*Software.*'\n",
      "match (p:People)-[e:EMPLOYEE_IN]->(c)\n",
      "return p, collect(e) as exp, collect(c) as comps\n",
      "order by size(exp) desc limit 3; \n",
      "\n"
     ]
    }
   ],
   "source": [
    "domain = 'Software'\n",
    "query = f'''\n",
    "match (c:Company)-[:WORKS_IN]->(i:Industry)\n",
    "where i.name =~ '(?i).*{domain}.*'\n",
    "match (p:People)-[e:EMPLOYEE_IN]->(c)\n",
    "return p, collect(e) as exp, collect(c) as comps\n",
    "order by size(exp) desc limit 3; \n",
    "'''\n",
    "# (?i) for case-insensitive\n",
    "\n",
    "print(f\"Running query: \\n {query}\")\n",
    "neoCon = neo4j_utils.neo_connector(creds=creds['neo_creds'])\n",
    "result = neoCon.runQuery(query)\n",
    "# result"
   ]
  },
  {
   "cell_type": "code",
   "execution_count": 23,
   "metadata": {},
   "outputs": [
    {
     "data": {
      "text/plain": [
       "[\"'aakash-chaudhary'\", \"'aaditijoag'\", \"'aarazakariaei'\"]"
      ]
     },
     "execution_count": 23,
     "metadata": {},
     "output_type": "execute_result"
    }
   ],
   "source": [
    "public_identifiers = [\"'\"+x['p']['public_identifier']+\"'\" for x in result]\n",
    "public_identifiers"
   ]
  },
  {
   "cell_type": "markdown",
   "metadata": {},
   "source": [
    "We can get extra information about these people from mongoDB and postgres"
   ]
  },
  {
   "cell_type": "code",
   "execution_count": 24,
   "metadata": {},
   "outputs": [
    {
     "data": {
      "text/html": [
       "<div>\n",
       "<style scoped>\n",
       "    .dataframe tbody tr th:only-of-type {\n",
       "        vertical-align: middle;\n",
       "    }\n",
       "\n",
       "    .dataframe tbody tr th {\n",
       "        vertical-align: top;\n",
       "    }\n",
       "\n",
       "    .dataframe thead th {\n",
       "        text-align: right;\n",
       "    }\n",
       "</style>\n",
       "<table border=\"1\" class=\"dataframe\">\n",
       "  <thead>\n",
       "    <tr style=\"text-align: right;\">\n",
       "      <th></th>\n",
       "      <th>full_name</th>\n",
       "      <th>occupation</th>\n",
       "      <th>headline</th>\n",
       "      <th>summary</th>\n",
       "      <th>city</th>\n",
       "      <th>country</th>\n",
       "    </tr>\n",
       "  </thead>\n",
       "  <tbody>\n",
       "    <tr>\n",
       "      <th>0</th>\n",
       "      <td>Aaditi Joag</td>\n",
       "      <td>Software Development Engineer II at Amazon</td>\n",
       "      <td>Software Development Engineer at Amazon</td>\n",
       "      <td>None</td>\n",
       "      <td>San Francisco Bay Area</td>\n",
       "      <td>US</td>\n",
       "    </tr>\n",
       "    <tr>\n",
       "      <th>1</th>\n",
       "      <td>Aakash Chaudhary</td>\n",
       "      <td>Software Development Engineer 3 at Expedia Group</td>\n",
       "      <td>SDE 3 at Expedia Group | Former SDE at Amazon ...</td>\n",
       "      <td>Expert Software Development professional with ...</td>\n",
       "      <td>Seattle</td>\n",
       "      <td>US</td>\n",
       "    </tr>\n",
       "    <tr>\n",
       "      <th>2</th>\n",
       "      <td>Aara Zakariaei</td>\n",
       "      <td>Healthcare Account Executive at Slack</td>\n",
       "      <td>Account Executive at Slack | NASM Health Coach</td>\n",
       "      <td>None</td>\n",
       "      <td>Denver</td>\n",
       "      <td>US</td>\n",
       "    </tr>\n",
       "  </tbody>\n",
       "</table>\n",
       "</div>"
      ],
      "text/plain": [
       "          full_name                                        occupation  \\\n",
       "0       Aaditi Joag        Software Development Engineer II at Amazon   \n",
       "1  Aakash Chaudhary  Software Development Engineer 3 at Expedia Group   \n",
       "2    Aara Zakariaei             Healthcare Account Executive at Slack   \n",
       "\n",
       "                                            headline  \\\n",
       "0            Software Development Engineer at Amazon   \n",
       "1  SDE 3 at Expedia Group | Former SDE at Amazon ...   \n",
       "2     Account Executive at Slack | NASM Health Coach   \n",
       "\n",
       "                                             summary                    city  \\\n",
       "0                                               None  San Francisco Bay Area   \n",
       "1  Expert Software Development professional with ...                 Seattle   \n",
       "2                                               None                  Denver   \n",
       "\n",
       "  country  \n",
       "0      US  \n",
       "1      US  \n",
       "2      US  "
      ]
     },
     "execution_count": 24,
     "metadata": {},
     "output_type": "execute_result"
    }
   ],
   "source": [
    "# From PostgreSQL\n",
    "sql_query = f'''\n",
    "select full_name, occupation, headline, summary, city, country from uspeople_pc where public_identifier in ({','.join(public_identifiers)});\n",
    "'''\n",
    "pgsql = sql_utils.PostgreSQL_Connector(creds['sql_creds'])\n",
    "people_details = pgsql.runQuery(sql_query)\n",
    "people_details"
   ]
  },
  {
   "cell_type": "markdown",
   "metadata": {},
   "source": [
    "## Result:\n",
    "These people have most experience in the specified domain. We have retrieved their profile summaries also so you can get to know about them and try to connect to them for mentorship and come in direct contact with most companies in your specified domain"
   ]
  }
 ],
 "metadata": {
  "kernelspec": {
   "display_name": "Python 3",
   "language": "python",
   "name": "python3"
  },
  "language_info": {
   "codemirror_mode": {
    "name": "ipython",
    "version": 3
   },
   "file_extension": ".py",
   "mimetype": "text/x-python",
   "name": "python",
   "nbconvert_exporter": "python",
   "pygments_lexer": "ipython3",
   "version": "3.11.5"
  }
 },
 "nbformat": 4,
 "nbformat_minor": 2
}
