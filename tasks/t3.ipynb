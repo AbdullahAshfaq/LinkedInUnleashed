{
 "cells": [
  {
   "cell_type": "markdown",
   "metadata": {},
   "source": [
    "# Task 2\n",
    "\n",
    "We want to get into a company e.g. AWS and want to know the minimum number of steps to come into contact with someone who works/has worked in the company\n"
   ]
  },
  {
   "cell_type": "code",
   "execution_count": 19,
   "metadata": {},
   "outputs": [],
   "source": [
    "import sys\n",
    "import os\n",
    "\n",
    "src_path = '..'\n",
    "sys.path.append(src_path)"
   ]
  },
  {
   "cell_type": "code",
   "execution_count": 20,
   "metadata": {},
   "outputs": [],
   "source": [
    "from src.utils import neo4j_utils\n",
    "\n",
    "neo_creds = {\n",
    "    'host': 'localhost',\n",
    "    'port': '7687',\n",
    "    'user': 'neo4j',\n",
    "    'password': 'neo4j1'\n",
    "}\n",
    "neoCon = neo4j_utils.neo_connector(creds=neo_creds)"
   ]
  },
  {
   "cell_type": "code",
   "execution_count": 21,
   "metadata": {},
   "outputs": [],
   "source": [
    "# Application of shortest path\n",
    "name = 'Abdullah Ashfaq'\n",
    "public_identifier = 'aashfaq11'\n",
    "educational_institution = '.*University of California.*San Diego.*'\n",
    "groups = ['Data Science for Finance and Economics']\n",
    "target_company = 'Google'\n",
    "\n",
    "# Starting points are my groups and universities\n",
    "starting_groups = []\n",
    "starting_uni = ['.*University of California.*San Diego.*']\n",
    "\n"
   ]
  },
  {
   "cell_type": "code",
   "execution_count": 22,
   "metadata": {},
   "outputs": [
    {
     "data": {
      "text/plain": [
       "[]"
      ]
     },
     "execution_count": 22,
     "metadata": {},
     "output_type": "execute_result"
    }
   ],
   "source": [
    "# Inserting myself in the network\n",
    "insert_query = f'''\n",
    "Merge (a:People {{full_name: \"{name}\", public_identifier: \"{public_identifier}\"}})\n",
    "'''\n",
    "neoCon.runQuery(insert_query)"
   ]
  },
  {
   "cell_type": "code",
   "execution_count": 23,
   "metadata": {},
   "outputs": [
    {
     "name": "stdout",
     "output_type": "stream",
     "text": [
      "Running query: \n",
      " \n",
      "Match (a:People {full_name: \"Abdullah Ashfaq\", public_identifier: \"aashfaq11\"}), (u:Edu_Institution), (g:Group)\n",
      "where u.name =~ '(?i).*University of California.*San Diego.*' and g.name = 'Data Science for Finance and Economics'\n",
      "merge (a)-[:STUDIED_IN]->(u)\n",
      "merge (g)<-[:Is_In_Group]-(a)\n",
      "\n"
     ]
    },
    {
     "data": {
      "text/plain": [
       "[]"
      ]
     },
     "execution_count": 23,
     "metadata": {},
     "output_type": "execute_result"
    }
   ],
   "source": [
    "# Creating initial my connections\n",
    "insert_query = f'''\n",
    "Match (a:People {{full_name: \"{name}\", public_identifier: \"{public_identifier}\"}}), (u:Edu_Institution), (g:Group)\n",
    "where u.name =~ '(?i){educational_institution}' and g.name = '{groups[0]}'\n",
    "merge (a)-[:STUDIED_IN]->(u)\n",
    "merge (g)<-[:Is_In_Group]-(a)\n",
    "'''\n",
    "print(f\"Running query: \\n {insert_query}\")\n",
    "neoCon.runQuery(insert_query)"
   ]
  },
  {
   "cell_type": "code",
   "execution_count": 24,
   "metadata": {},
   "outputs": [
    {
     "name": "stdout",
     "output_type": "stream",
     "text": [
      "Running query: \n",
      " \n",
      "MATCH (end:People)-[:EMPLOYEE_IN]->(c:Company)\n",
      "WHERE c.name =~ 'Google'\n",
      "WITH collect(end) as endPersons\n",
      "Match (start:People {full_name: \"Abdullah Ashfaq\", public_identifier: \"aashfaq11\"})\n",
      "CALL apoc.path.subgraphNodes(start, {relationshipFilter:'', endNodes:endPersons, limit:3, labelFilter:'-Company'}) YIELD node\n",
      "RETURN node\n",
      "\n"
     ]
    }
   ],
   "source": [
    "# We want a path that doesn't pass through a Company node\n",
    "# Because Paths involving company nodes and relations (e.g. works in domain) made less sense e.g. Me--(CompanyA)--(domain)--(Google)\n",
    "query = f'''\n",
    "MATCH (end:People)-[:EMPLOYEE_IN]->(c:Company)\n",
    "WHERE c.name =~ '{target_company}'\n",
    "WITH collect(end) as endPersons\n",
    "Match (start:People {{full_name: \"{name}\", public_identifier: \"{public_identifier}\"}})\n",
    "CALL apoc.path.subgraphNodes(start, {{relationshipFilter:'', endNodes:endPersons, limit:3, labelFilter:'-Company'}}) YIELD node\n",
    "RETURN node\n",
    "'''\n",
    "print(f\"Running query: \\n {query}\")\n",
    "values = neoCon.runQuery(query)"
   ]
  },
  {
   "cell_type": "code",
   "execution_count": 14,
   "metadata": {},
   "outputs": [
    {
     "data": {
      "text/plain": [
       "['aakratikinger', 'aallaman', 'aaron-abaribe']"
      ]
     },
     "execution_count": 14,
     "metadata": {},
     "output_type": "execute_result"
    }
   ],
   "source": [
    "# Our top 3 contacts\n",
    "pub_identif = [x['node']['public_identifier'] for x in values]\n",
    "pub_identif"
   ]
  },
  {
   "cell_type": "code",
   "execution_count": 18,
   "metadata": {},
   "outputs": [
    {
     "name": "stdout",
     "output_type": "stream",
     "text": [
      "Running query: \n",
      " \n",
      "    Match p=shortestPath((a:People {full_name: \"Abdullah Ashfaq\", public_identifier: \"aashfaq11\"})-[*]-(p1:People {public_identifier:'aakratikinger'}))\n",
      "    return p;\n",
      "    \n",
      "Running query: \n",
      " \n",
      "    Match p=shortestPath((a:People {full_name: \"Abdullah Ashfaq\", public_identifier: \"aashfaq11\"})-[*]-(p1:People {public_identifier:'aallaman'}))\n",
      "    return p;\n",
      "    \n",
      "Running query: \n",
      " \n",
      "    Match p=shortestPath((a:People {full_name: \"Abdullah Ashfaq\", public_identifier: \"aashfaq11\"})-[*]-(p1:People {public_identifier:'aaron-abaribe'}))\n",
      "    return p;\n",
      "    \n"
     ]
    },
    {
     "data": {
      "text/plain": [
       "[[{'p': [{'public_identifier': 'aashfaq11', 'full_name': 'Abdullah Ashfaq'},\n",
       "    'Is_In_Group',\n",
       "    {'name': 'Data Science for Finance and Economics',\n",
       "     'url': 'https://www.linkedin.com/groups/6781274'},\n",
       "    'Is_In_Group',\n",
       "    {'public_identifier': 'aamashharoon', 'full_name': 'Aamash Haroon'},\n",
       "    'Is_In_Group',\n",
       "    {'name': 'CFA Program Candidates',\n",
       "     'url': 'https://www.linkedin.com/groups/38728'},\n",
       "    'Is_In_Group',\n",
       "    {'public_identifier': 'aakratikinger', 'full_name': 'Aakrati Kinger'}]}],\n",
       " [{'p': [{'public_identifier': 'aashfaq11', 'full_name': 'Abdullah Ashfaq'},\n",
       "    'STUDIED_IN',\n",
       "    {'name': 'University of California, San Diego',\n",
       "     'linkedin_profile': 'https://www.linkedin.com/school/ucsandiego/'},\n",
       "    'STUDIED_IN',\n",
       "    {'public_identifier': 'aamirssyed', 'full_name': 'aamir syed'},\n",
       "    'Is_In_Group',\n",
       "    {'name': 'Social Media Marketing Group by Connect365.io',\n",
       "     'url': 'https://www.linkedin.com/groups/66325'},\n",
       "    'Is_In_Group',\n",
       "    {'public_identifier': 'aallaman', 'full_name': 'Allen Allaman'}]}],\n",
       " [{'p': [{'public_identifier': 'aashfaq11', 'full_name': 'Abdullah Ashfaq'},\n",
       "    'STUDIED_IN',\n",
       "    {'name': 'University of California, San Diego',\n",
       "     'linkedin_profile': 'https://www.linkedin.com/school/ucsandiego/'},\n",
       "    'STUDIED_IN',\n",
       "    {'public_identifier': 'aamirssyed', 'full_name': 'aamir syed'},\n",
       "    'Is_In_Group',\n",
       "    {'name': 'Social Media Marketing Group by Connect365.io',\n",
       "     'url': 'https://www.linkedin.com/groups/66325'},\n",
       "    'Is_In_Group',\n",
       "    {'public_identifier': 'aaron-abaribe', 'full_name': 'Aaron Abaribe'}]}]]"
      ]
     },
     "execution_count": 18,
     "metadata": {},
     "output_type": "execute_result"
    }
   ],
   "source": [
    "all_paths = []\n",
    "for p in pub_identif:\n",
    "    query = f'''\n",
    "    Match p=shortestPath((a:People {{full_name: \"{name}\", public_identifier: \"{public_identifier}\"}})-[*]-(p1:People {{public_identifier:'{p}'}}))\n",
    "    return p;\n",
    "    '''\n",
    "    print(f\"Running query: \\n {query}\")\n",
    "    values = neoCon.runQuery(query)\n",
    "    all_paths.append(values)\n",
    "\n",
    "all_paths"
   ]
  },
  {
   "cell_type": "code",
   "execution_count": null,
   "metadata": {},
   "outputs": [],
   "source": []
  }
 ],
 "metadata": {
  "kernelspec": {
   "display_name": "Python 3",
   "language": "python",
   "name": "python3"
  },
  "language_info": {
   "codemirror_mode": {
    "name": "ipython",
    "version": 3
   },
   "file_extension": ".py",
   "mimetype": "text/x-python",
   "name": "python",
   "nbconvert_exporter": "python",
   "pygments_lexer": "ipython3",
   "version": "3.11.5"
  }
 },
 "nbformat": 4,
 "nbformat_minor": 2
}
