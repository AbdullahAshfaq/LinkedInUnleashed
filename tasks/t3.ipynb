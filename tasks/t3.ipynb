{
 "cells": [
  {
   "cell_type": "markdown",
   "metadata": {},
   "source": [
    "# Task 4: Exploratory Data Analysis\n",
    "\n",
    "Relatively simple queries\n",
    "Something relating to alumni of my University"
   ]
  },
  {
   "cell_type": "code",
   "execution_count": null,
   "metadata": {},
   "outputs": [],
   "source": [
    "# Google hires most from where?\n",
    "'''\n",
    "match p=(u:Edu_Institution)--(n:People)--(c:Company {name: 'Google'})\n",
    "with u, collect(p) as paths\n",
    "return u, paths, size(paths) as path_len\n",
    "order by path_len desc skip 0 limit 1;\n",
    "'''"
   ]
  },
  {
   "cell_type": "code",
   "execution_count": null,
   "metadata": {},
   "outputs": [],
   "source": [
    "# Where do Students of UC usually go?"
   ]
  },
  {
   "cell_type": "code",
   "execution_count": 1,
   "metadata": {},
   "outputs": [],
   "source": [
    "# Top 10 companies that hire most DS\n",
    "'''\n",
    "match (c:Company)-[r:EMPLOYEE_IN]-(e)\n",
    "where r.title =~ '(?i).*data.*'\n",
    "with c, collect(r) as ds_roles, collect(e) as emp\n",
    "with *, size(ds_roles) as ds_count\n",
    "return *\n",
    "order by ds_count desc limit 10;\n",
    "'''"
   ]
  },
  {
   "cell_type": "code",
   "execution_count": null,
   "metadata": {},
   "outputs": [],
   "source": []
  }
 ],
 "metadata": {
  "kernelspec": {
   "display_name": "Python 3",
   "language": "python",
   "name": "python3"
  },
  "language_info": {
   "codemirror_mode": {
    "name": "ipython",
    "version": 3
   },
   "file_extension": ".py",
   "mimetype": "text/x-python",
   "name": "python",
   "nbconvert_exporter": "python",
   "pygments_lexer": "ipython3",
   "version": "3.11.5"
  }
 },
 "nbformat": 4,
 "nbformat_minor": 2
}
