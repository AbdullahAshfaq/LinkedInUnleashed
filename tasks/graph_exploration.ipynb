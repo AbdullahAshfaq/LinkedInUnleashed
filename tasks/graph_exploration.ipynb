{
 "cells": [
  {
   "cell_type": "markdown",
   "metadata": {},
   "source": [
    "# Exploration of different graph features"
   ]
  },
  {
   "cell_type": "markdown",
   "metadata": {},
   "source": [
    "### Companies with most employees"
   ]
  },
  {
   "cell_type": "code",
   "execution_count": null,
   "metadata": {},
   "outputs": [],
   "source": [
    "# Top 3\n",
    "'''\n",
    "match (p:People)-[r:EMPLOYEE_IN]-(c:Company)\n",
    "return c, collect(r.title) as rels, collect(p) as people\n",
    "order by size(rels) desc limit 2;\n",
    "'''\n",
    "\n",
    "'''\n",
    "match (p:People)-[r:EMPLOYEE_IN]-(c:Company)\n",
    "with c, collect(r.title) as rels, collect(p) as people\n",
    "return c, size(rels) as employees\n",
    "order by size(rels) desc limit 3;\n",
    "'''\n",
    "# Result is Amazon (182), Microsoft (146), Self-employed (92)\n"
   ]
  },
  {
   "cell_type": "markdown",
   "metadata": {},
   "source": [
    "### Companies in Software Development industry"
   ]
  },
  {
   "cell_type": "code",
   "execution_count": null,
   "metadata": {},
   "outputs": [],
   "source": [
    "'''\n",
    "match (a)--(i:Industry {name: 'Software Development'}) return *;\n",
    "'''"
   ]
  },
  {
   "cell_type": "code",
   "execution_count": null,
   "metadata": {},
   "outputs": [],
   "source": []
  }
 ],
 "metadata": {
  "kernelspec": {
   "display_name": "Python 3",
   "language": "python",
   "name": "python3"
  },
  "language_info": {
   "name": "python",
   "version": "3.11.5"
  }
 },
 "nbformat": 4,
 "nbformat_minor": 2
}
